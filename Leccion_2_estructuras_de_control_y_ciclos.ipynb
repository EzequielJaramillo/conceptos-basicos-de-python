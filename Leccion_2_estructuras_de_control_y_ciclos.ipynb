{
  "nbformat": 4,
  "nbformat_minor": 0,
  "metadata": {
    "colab": {
      "provenance": []
    },
    "kernelspec": {
      "name": "python3",
      "display_name": "Python 3"
    },
    "language_info": {
      "name": "python"
    }
  },
  "cells": [
    {
      "cell_type": "markdown",
      "source": [
        "#Estructuras de Control y Ciclos\n",
        "\n",
        "Las estructuras de control son esenciales en cualquier lenguaje de programación ya que permiten que el programa tome decisiones, repita acciones y controle el flujo de ejecución de manera dinámica. Sin ellas, un programa sería una simple secuencia de instrucciones que se ejecutan de arriba a abajo sin variaciones.\n",
        "\n",
        "##Operdaores de comparación\n",
        "\n",
        "Se usan principalmente para comparar valores y ver si existe relación entre ellos o no, estos son:\n",
        "\n",
        "`==`: Verifica si dos valores son iguales.\n",
        "\n",
        "`!=`: Verifica si dos valores son diferentes.\n",
        "\n",
        "`>`: Verifica si el valor a la izquierda es mayor que el valor a la derecha.\n",
        "\n",
        "`<`: Verifica si el valor a la izquierda es menor que el valor a la derecha.\n",
        "\n",
        "`>=`: Verifica si el valor a la izquierda es mayor o igual que el valor a la derecha.\n",
        "\n",
        "`<=`: Verifica si el valor a la izquierda es menor o igual que el valor a la derecha."
      ],
      "metadata": {
        "id": "2wZH1scZuK8_"
      }
    },
    {
      "cell_type": "code",
      "source": [
        "a = 10\n",
        "b = 20\n",
        "\n",
        "print(a == b)  # Esto imprimirá False porque 10 no es igual a 20\n",
        "print(a != b)  # Esto imprimirá True porque 10 es diferente de 20\n",
        "print(a > b)   # Esto imprimirá False porque 10 no es mayor que 20\n",
        "print(a < b)   # Esto imprimirá True porque 10 es menor que 20\n",
        "print(a >= b)  # Esto imprimirá False porque 10 no es mayor ni igual a 20\n",
        "print(a <= b)  # Esto imprimirá True porque 10 es menor o igual a 20\n"
      ],
      "metadata": {
        "colab": {
          "base_uri": "https://localhost:8080/"
        },
        "id": "lEv1Y2AEwYh5",
        "outputId": "a7729ca8-cc71-4883-c300-66ad778c3602"
      },
      "execution_count": null,
      "outputs": [
        {
          "output_type": "stream",
          "name": "stdout",
          "text": [
            "False\n",
            "True\n",
            "False\n",
            "True\n",
            "False\n",
            "True\n"
          ]
        }
      ]
    },
    {
      "cell_type": "markdown",
      "source": [
        "##Operadores booleanos\n",
        "\n",
        "Estos son útiles para para poder hacer evaluaciones y comparaciones de expresiones mas complejas. Estos son:\n",
        "\n",
        "`and`: Verdadero si ambas expresiones son verdaderas.\n",
        "\n",
        "`or`: Verdadero si al menos una expresión es verdadera.\n",
        "\n",
        "`not`: Invierte el valor de verdad de una expresión."
      ],
      "metadata": {
        "id": "KA9I_BPEy6tQ"
      }
    },
    {
      "cell_type": "code",
      "source": [
        "x = True\n",
        "y = False\n",
        "\n",
        "print(x and y)  # Esto imprimirá False porque ambas expresiones no son verdaderas\n",
        "print(x or y)   # Esto imprimirá True porque al menos una expresión es verdadera\n",
        "print(not x)    # Esto imprimirá False porque invierte el valor de True a False\n"
      ],
      "metadata": {
        "colab": {
          "base_uri": "https://localhost:8080/"
        },
        "id": "1pOkgt0S0MVe",
        "outputId": "398be942-d364-418f-daa0-bcb8d5f69915"
      },
      "execution_count": null,
      "outputs": [
        {
          "output_type": "stream",
          "name": "stdout",
          "text": [
            "False\n",
            "True\n",
            "False\n"
          ]
        }
      ]
    },
    {
      "cell_type": "markdown",
      "source": [
        "##Condicionales en Python\n",
        "\n",
        "Las estructuras condicionales son fundamentales para la toma de decisiones en programación. Permiten que el código ejecute ciertas acciones solo si se cumplen determinadas condiciones. Python utiliza las declaraciones if, elif y else para construir estas estructuras.\n",
        "\n",
        "###if\n",
        "\n",
        "La declaración if evalúa una condición. Si la condición es verdadera, el bloque de código indentado bajo el if se ejecuta.\n"
      ],
      "metadata": {
        "id": "DXHn29ojGoxe"
      }
    },
    {
      "cell_type": "code",
      "source": [
        "if condición:\n",
        "    # Bloque de código a ejecutar si la condición es verdadera\n"
      ],
      "metadata": {
        "id": "EuWkSLTZHVox"
      },
      "execution_count": null,
      "outputs": []
    },
    {
      "cell_type": "code",
      "source": [
        "x = 10\n",
        "if x > 5:\n",
        "    print(\"x es mayor que 5\")\n"
      ],
      "metadata": {
        "colab": {
          "base_uri": "https://localhost:8080/"
        },
        "id": "l7keSOl1HZCh",
        "outputId": "b1837cf2-80d2-4293-8a87-af279360c92e"
      },
      "execution_count": null,
      "outputs": [
        {
          "output_type": "stream",
          "name": "stdout",
          "text": [
            "x es mayor que 5\n"
          ]
        }
      ]
    },
    {
      "cell_type": "markdown",
      "source": [
        "###else\n",
        "\n",
        "La declaración else se utiliza para ejecutar un bloque de código si todas las condiciones anteriores en el bloque if son falsas."
      ],
      "metadata": {
        "id": "PFrsPtEgHsPr"
      }
    },
    {
      "cell_type": "code",
      "source": [
        "if condición:\n",
        "    # Bloque de código si la condición es verdadera\n",
        "else:\n",
        "    # Bloque de código si la condición es falsa\n"
      ],
      "metadata": {
        "id": "BuiNPV8YHxRp"
      },
      "execution_count": null,
      "outputs": []
    },
    {
      "cell_type": "code",
      "source": [
        "x = 3\n",
        "if x > 5:\n",
        "    print(\"x es mayor que 5\")\n",
        "else:\n",
        "    print(\"x no es mayor que 5\")\n"
      ],
      "metadata": {
        "colab": {
          "base_uri": "https://localhost:8080/"
        },
        "id": "2k_jKjsQHzvA",
        "outputId": "0e68939c-4b3f-450a-e801-71b108b40b34"
      },
      "execution_count": null,
      "outputs": [
        {
          "output_type": "stream",
          "name": "stdout",
          "text": [
            "x no es mayor que 5\n"
          ]
        }
      ]
    },
    {
      "cell_type": "markdown",
      "source": [
        "###elif\n",
        "\n",
        "La declaración elif, abreviatura de \"else if\", permite evaluar múltiples condiciones. Si la primera condición es falsa, Python evalúa la siguiente condición elif, y así sucesivamente."
      ],
      "metadata": {
        "id": "K2WluYf4H52M"
      }
    },
    {
      "cell_type": "code",
      "source": [
        "if condición1:\n",
        "    # Bloque de código si condición1 es verdadera\n",
        "elif condición2:\n",
        "    # Bloque de código si condición2 es verdadera\n",
        "else:\n",
        "    # Bloque de código si ninguna condición es verdadera\n"
      ],
      "metadata": {
        "id": "o1VJoZTZH_dh"
      },
      "execution_count": null,
      "outputs": []
    },
    {
      "cell_type": "code",
      "source": [
        "x = 10\n",
        "if x > 15:\n",
        "    print(\"x es mayor que 15\")\n",
        "elif x > 5:\n",
        "    print(\"x es mayor que 5 pero menor o igual a 15\")\n",
        "else:\n",
        "    print(\"x es 5 o menor\")\n"
      ],
      "metadata": {
        "colab": {
          "base_uri": "https://localhost:8080/"
        },
        "id": "DFGs0aagIC-V",
        "outputId": "5b0ca28c-7716-422f-c0bd-1d83bff2c430"
      },
      "execution_count": null,
      "outputs": [
        {
          "output_type": "stream",
          "name": "stdout",
          "text": [
            "x es mayor que 5 pero menor o igual a 15\n"
          ]
        }
      ]
    },
    {
      "cell_type": "markdown",
      "source": [
        "###Condicionales Anidada\n",
        "\n",
        "Las condicionales anidadas son condicionales dentro de otras condicionales. Aunque son útiles, pueden hacer que el código sea difícil de leer si se abusa de su uso\n"
      ],
      "metadata": {
        "id": "_jsyjTQKIj-j"
      }
    },
    {
      "cell_type": "code",
      "source": [
        "x = 20\n",
        "if x > 10:\n",
        "    print(\"x es mayor que 10\")\n",
        "    if x > 15:\n",
        "        print(\"x también es mayor que 15\")\n",
        "    else:\n",
        "        print(\"x es 15 o menor\")\n",
        "else:\n",
        "    print(\"x es 10 o menor\")\n"
      ],
      "metadata": {
        "colab": {
          "base_uri": "https://localhost:8080/"
        },
        "id": "bcU-nRdiIlQj",
        "outputId": "c4d8e47b-2b72-4c68-852e-364bee1d81de"
      },
      "execution_count": null,
      "outputs": [
        {
          "output_type": "stream",
          "name": "stdout",
          "text": [
            "x es mayor que 10\n",
            "x también es mayor que 15\n"
          ]
        }
      ]
    },
    {
      "cell_type": "markdown",
      "source": [
        "###Uso de operadores de comparación y booleanos en condicionales\n",
        "\n",
        "Las condicionales a menudo utilizan operadores de comparación y booleanos para evaluar expresiones complejas. Estos son algunos ejemplos de aplicación\n"
      ],
      "metadata": {
        "id": "soQUmU49Jb3E"
      }
    },
    {
      "cell_type": "code",
      "source": [
        "x = 10\n",
        "y = 20\n",
        "if x == 10 and y == 20:\n",
        "    print(\"Ambas condiciones son verdaderas\")\n"
      ],
      "metadata": {
        "colab": {
          "base_uri": "https://localhost:8080/"
        },
        "id": "LTnYcNDrJdri",
        "outputId": "de915825-c0eb-42ee-da5a-4df206dce896"
      },
      "execution_count": null,
      "outputs": [
        {
          "output_type": "stream",
          "name": "stdout",
          "text": [
            "Ambas condiciones son verdaderas\n"
          ]
        }
      ]
    },
    {
      "cell_type": "code",
      "source": [
        "x = 10\n",
        "if x > 5 and x < 15:\n",
        "    print(\"x está entre 5 y 15\")\n"
      ],
      "metadata": {
        "colab": {
          "base_uri": "https://localhost:8080/"
        },
        "id": "ttMSthrqJh1f",
        "outputId": "83561013-d8b9-487f-9bd0-ce93ef2fa7f4"
      },
      "execution_count": null,
      "outputs": [
        {
          "output_type": "stream",
          "name": "stdout",
          "text": [
            "x está entre 5 y 15\n"
          ]
        }
      ]
    },
    {
      "cell_type": "markdown",
      "source": [
        "##Bucles\n",
        "\n",
        "Los bucles son herramientas esenciales en la programación que permiten ejecutar repetidamente un bloque de código. Los dos tipos principales de bucles en Python son for y while, cada uno con sus propias aplicaciones y estilos.\n",
        "\n",
        "###Bucle for\n",
        "El bucle for se utiliza para iterar sobre una secuencia (como una lista, tupla, diccionario, conjunto o cadena). Es útil cuando se conoce el número de iteraciones por adelantado. Ejemplos:\n"
      ],
      "metadata": {
        "id": "_36h0S4UdWQn"
      }
    },
    {
      "cell_type": "code",
      "source": [
        "#Iterar sobre una lista\n",
        "frutas = [\"manzana\", \"banana\", \"cereza\"]\n",
        "for fruta in frutas:\n",
        "    print(fruta)\n"
      ],
      "metadata": {
        "colab": {
          "base_uri": "https://localhost:8080/"
        },
        "id": "Y-9LtscIdfXm",
        "outputId": "4ea55953-e21d-435a-9ed2-db9842b9547c"
      },
      "execution_count": null,
      "outputs": [
        {
          "output_type": "stream",
          "name": "stdout",
          "text": [
            "manzana\n",
            "banana\n",
            "cereza\n"
          ]
        }
      ]
    },
    {
      "cell_type": "code",
      "source": [
        "#Iterar sobre una cadena de texto\n",
        "palabra = \"Python\"\n",
        "for letra in palabra:\n",
        "    print(letra)\n"
      ],
      "metadata": {
        "colab": {
          "base_uri": "https://localhost:8080/"
        },
        "id": "6hF0nrbrdv5B",
        "outputId": "2283538c-6a1d-4032-bde7-3a9e69befb29"
      },
      "execution_count": null,
      "outputs": [
        {
          "output_type": "stream",
          "name": "stdout",
          "text": [
            "P\n",
            "y\n",
            "t\n",
            "h\n",
            "o\n",
            "n\n"
          ]
        }
      ]
    },
    {
      "cell_type": "code",
      "source": [
        "#terar usando range\n",
        "for i in range(5):\n",
        "    print(i)\n"
      ],
      "metadata": {
        "colab": {
          "base_uri": "https://localhost:8080/"
        },
        "id": "7HDe4M5td4E0",
        "outputId": "6c6249c3-978e-41be-a082-4511641e640b"
      },
      "execution_count": null,
      "outputs": [
        {
          "output_type": "stream",
          "name": "stdout",
          "text": [
            "0\n",
            "1\n",
            "2\n",
            "3\n",
            "4\n"
          ]
        }
      ]
    },
    {
      "cell_type": "markdown",
      "source": [
        "###Bucle while\n",
        "\n",
        "El bucle while ejecuta un bloque de código mientras una condición sea verdadera. Es útil cuando no se conoce de antemano el número exacto de iteraciones y se basa en una condición dinámica. Ejemplos:"
      ],
      "metadata": {
        "id": "g3kVz0ioeU14"
      }
    },
    {
      "cell_type": "code",
      "source": [
        "#contador simple\n",
        "contador = 0\n",
        "while contador < 5:\n",
        "    print(contador)\n",
        "    contador += 1\n"
      ],
      "metadata": {
        "colab": {
          "base_uri": "https://localhost:8080/"
        },
        "id": "sGfrajzjedjh",
        "outputId": "afd8abe5-b97d-4bab-9006-51d95034ca64"
      },
      "execution_count": null,
      "outputs": [
        {
          "output_type": "stream",
          "name": "stdout",
          "text": [
            "0\n",
            "1\n",
            "2\n",
            "3\n",
            "4\n"
          ]
        }
      ]
    },
    {
      "cell_type": "code",
      "source": [
        "#entrada de usuario\n",
        "entrada = input()\n",
        "while entrada.lower() != \"salir\":\n",
        "    entrada = input(\"Escribe algo (escribe 'salir' para terminar): \")\n",
        "    print(f\"Dijiste: {entrada}\")\n"
      ],
      "metadata": {
        "colab": {
          "base_uri": "https://localhost:8080/"
        },
        "id": "o3-_HAxRelEc",
        "outputId": "811d303b-bf9d-4c22-ecc0-e0764a3ba00f"
      },
      "execution_count": null,
      "outputs": [
        {
          "output_type": "stream",
          "name": "stdout",
          "text": [
            "hola\n",
            "Escribe algo (escribe 'salir' para terminar): ayer\n",
            "Dijiste: ayer\n",
            "Escribe algo (escribe 'salir' para terminar): salir\n",
            "Dijiste: salir\n"
          ]
        }
      ]
    },
    {
      "cell_type": "markdown",
      "source": [
        "##Break y Continue\n",
        "\n",
        "Estas declaraciones son usadas para controlar el flujo de los bucles\n",
        "\n",
        "###break\n",
        "\n",
        "Termina el bucle de manera prematura\n",
        "\n",
        "\n"
      ],
      "metadata": {
        "id": "S1BCO0bzivRb"
      }
    },
    {
      "cell_type": "code",
      "source": [
        "for num in range(10):\n",
        "    if num == 5:\n",
        "        break\n",
        "    print(num)\n"
      ],
      "metadata": {
        "colab": {
          "base_uri": "https://localhost:8080/"
        },
        "id": "DmOZvr_Qi28f",
        "outputId": "7abc865d-4261-487a-ee05-78fc00f53a3c"
      },
      "execution_count": null,
      "outputs": [
        {
          "output_type": "stream",
          "name": "stdout",
          "text": [
            "0\n",
            "1\n",
            "2\n",
            "3\n",
            "4\n"
          ]
        }
      ]
    },
    {
      "cell_type": "markdown",
      "source": [
        "###continue\n",
        "\n",
        "Salta a la siguiente iteración del bucle\n"
      ],
      "metadata": {
        "id": "eboISoDJiyFQ"
      }
    },
    {
      "cell_type": "code",
      "source": [
        "for num in range(10):\n",
        "    if num % 2 == 0:\n",
        "        continue\n",
        "    print(num)\n"
      ],
      "metadata": {
        "colab": {
          "base_uri": "https://localhost:8080/"
        },
        "id": "gS2S1-L0izEq",
        "outputId": "effcff4f-3d8e-4b56-94da-379419c531ef"
      },
      "execution_count": null,
      "outputs": [
        {
          "output_type": "stream",
          "name": "stdout",
          "text": [
            "1\n",
            "3\n",
            "5\n",
            "7\n",
            "9\n"
          ]
        }
      ]
    },
    {
      "cell_type": "markdown",
      "source": [
        "##Principales estilos de bucles\n",
        "\n",
        "###Bucle for con enumerate\n",
        "\n",
        "El método enumerate permite obtener tanto el índice como el valor de los elementos de una secuencia, es útil cuando se necesita el índice de los elementos durante la iteración.\n"
      ],
      "metadata": {
        "id": "uSyasgDJlW_g"
      }
    },
    {
      "cell_type": "code",
      "source": [
        "frutas = [\"manzana\", \"banana\", \"cereza\"]\n",
        "for indice, fruta in enumerate(frutas):\n",
        "    print(f\"{indice}: {fruta}\")\n"
      ],
      "metadata": {
        "colab": {
          "base_uri": "https://localhost:8080/"
        },
        "id": "I418ssCClcRg",
        "outputId": "c156ea1c-8217-41fa-f5b4-98adc9914831"
      },
      "execution_count": null,
      "outputs": [
        {
          "output_type": "stream",
          "name": "stdout",
          "text": [
            "0: manzana\n",
            "1: banana\n",
            "2: cereza\n"
          ]
        }
      ]
    },
    {
      "cell_type": "markdown",
      "source": [
        "##Bucle for con Comprensión de Listas\n",
        "Las comprensiones de listas son una forma concisa de crear listas nuevas aplicando una expresión a cada elemento de una secuencia, se usa cuando se necesita transformar una lista de manera concisa."
      ],
      "metadata": {
        "id": "tdl5FS2mliJw"
      }
    },
    {
      "cell_type": "code",
      "source": [
        "numeros = [1, 2, 3, 4, 5]\n",
        "cuadrados = [n**2 for n in numeros]\n",
        "print(cuadrados)\n"
      ],
      "metadata": {
        "colab": {
          "base_uri": "https://localhost:8080/"
        },
        "id": "S2LluJF9lsUv",
        "outputId": "548d4edc-e67f-4870-fce3-969670019529"
      },
      "execution_count": null,
      "outputs": [
        {
          "output_type": "stream",
          "name": "stdout",
          "text": [
            "[1, 4, 9, 16, 25]\n"
          ]
        }
      ]
    },
    {
      "cell_type": "markdown",
      "source": [
        "##Bucle while con break y continue\n",
        "La declaración break termina el bucle prematuramente, mientras que continue salta a la siguiente iteración del bucle, con break se utiliza cuando se necesita salir de un bucle basado en una condición que puede ocurrir en cualquier momento y con continue cuando se necesita saltar a la siguiente iteración sin ejecutar el resto del código en el bucle para ciertas condiciones"
      ],
      "metadata": {
        "id": "iDsY0MGWl6Td"
      }
    },
    {
      "cell_type": "code",
      "source": [
        "contador = 0\n",
        "while True:\n",
        "    print(contador)\n",
        "    contador += 1\n",
        "    if contador == 5:\n",
        "        break\n"
      ],
      "metadata": {
        "colab": {
          "base_uri": "https://localhost:8080/"
        },
        "id": "9G6VZSvVmR8d",
        "outputId": "b959e059-698d-446d-c837-a2d7a70cea06"
      },
      "execution_count": null,
      "outputs": [
        {
          "output_type": "stream",
          "name": "stdout",
          "text": [
            "0\n",
            "1\n",
            "2\n",
            "3\n",
            "4\n"
          ]
        }
      ]
    },
    {
      "cell_type": "code",
      "source": [
        "contador = 0\n",
        "while contador < 10:\n",
        "    contador += 1\n",
        "    if contador % 2 == 0:\n",
        "        continue\n",
        "    print(contador)\n"
      ],
      "metadata": {
        "colab": {
          "base_uri": "https://localhost:8080/"
        },
        "id": "zIwG8_XimT8f",
        "outputId": "c4361616-c73b-4fae-ee48-cb45bfbbb177"
      },
      "execution_count": null,
      "outputs": [
        {
          "output_type": "stream",
          "name": "stdout",
          "text": [
            "1\n",
            "3\n",
            "5\n",
            "7\n",
            "9\n"
          ]
        }
      ]
    },
    {
      "cell_type": "markdown",
      "source": [
        "##Consejos para evitar errores usando bucles\n",
        "\n",
        "**Evitar el uso de bucles infinitos:** hay que asegurarse de que la función del bucle eventualmente se vuelva falsa\n"
      ],
      "metadata": {
        "id": "2bm6EA9coFNJ"
      }
    },
    {
      "cell_type": "code",
      "source": [
        "# Ejemplo de bucle infinito:\n",
        "while True:\n",
        "    print(\"Esto es un bucle infinito\")\n",
        "\n",
        "# Para evitar esto, se debe tener una condición que rompa el bucle:\n",
        "contador = 0\n",
        "while contador < 5:\n",
        "    print(contador)\n",
        "    contador += 1\n"
      ],
      "metadata": {
        "id": "lNBcdsPmoL24"
      },
      "execution_count": null,
      "outputs": []
    },
    {
      "cell_type": "markdown",
      "source": [
        "**Usar el bucle adecuado para la tarea:**\n",
        "\n",
        "Usar for cuando se conoce el número de iteraciones o cuando se itera sobre una secuencia.\n",
        "\n",
        "Usar while cuando el número de iteraciones dependa de una condición dinámica.\n",
        "\n",
        "**Optimizar el uso de bucles anidados:** Los bucles dentro de otros son costosos en términos de rendimiento. por lo que hay que limitar su uso."
      ],
      "metadata": {
        "id": "_EJLQ6AgoUAs"
      }
    },
    {
      "cell_type": "code",
      "source": [
        "# Ejemplo de bucle anidado:\n",
        "for i in range(5):\n",
        "    for j in range(5):\n",
        "        print(i, j)\n"
      ],
      "metadata": {
        "colab": {
          "base_uri": "https://localhost:8080/"
        },
        "id": "NH2lNtFcozbi",
        "outputId": "d3cfe08e-60f7-41f7-883c-532cda088ecf"
      },
      "execution_count": null,
      "outputs": [
        {
          "output_type": "stream",
          "name": "stdout",
          "text": [
            "0 0\n",
            "0 1\n",
            "0 2\n",
            "0 3\n",
            "0 4\n",
            "1 0\n",
            "1 1\n",
            "1 2\n",
            "1 3\n",
            "1 4\n",
            "2 0\n",
            "2 1\n",
            "2 2\n",
            "2 3\n",
            "2 4\n",
            "3 0\n",
            "3 1\n",
            "3 2\n",
            "3 3\n",
            "3 4\n",
            "4 0\n",
            "4 1\n",
            "4 2\n",
            "4 3\n",
            "4 4\n"
          ]
        }
      ]
    },
    {
      "cell_type": "markdown",
      "source": [
        "**vitar el uso innecesario de break y continue:** se recoemienda usarlos cuando realmente aporten claridad al código, abusar de ellos puede complicar la comprensión del flujo del bucle."
      ],
      "metadata": {
        "id": "4lf7oqQ5o_Sj"
      }
    },
    {
      "cell_type": "markdown",
      "source": [
        "##Métodos de Asignación\n",
        "\n",
        "Estos permiten modificar variables de manera rápida y precisa sin tener que escribir líneas de código de manera innecesaria, tenemos:\n",
        "\n",
        "`+=`: suma y asigna\n",
        "\n",
        "`-=`: Resta y asigna\n",
        "\n",
        "`*=`: Multiplica y asigna\n",
        "\n",
        "`/=`: Divide y asigna\n",
        "\n",
        "`%=`: Módulo y asigna"
      ],
      "metadata": {
        "id": "nYuDYj7FpYNc"
      }
    },
    {
      "cell_type": "code",
      "source": [
        "x = 5\n",
        "x += 3  # x ahora es 8\n",
        "x *= 2  # x ahora es 16\n"
      ],
      "metadata": {
        "id": "NDRRySOSrNLS"
      },
      "execution_count": null,
      "outputs": []
    },
    {
      "cell_type": "code",
      "source": [
        "x='hola''\n"
      ],
      "metadata": {
        "colab": {
          "base_uri": "https://localhost:8080/",
          "height": 109
        },
        "id": "aHtDRMYVtdi6",
        "outputId": "c34f2d68-b303-4385-c106-1c6b0605c22d"
      },
      "execution_count": null,
      "outputs": [
        {
          "output_type": "error",
          "ename": "SyntaxError",
          "evalue": "unterminated string literal (detected at line 1) (<ipython-input-23-262388e442b1>, line 1)",
          "traceback": [
            "\u001b[0;36m  File \u001b[0;32m\"<ipython-input-23-262388e442b1>\"\u001b[0;36m, line \u001b[0;32m1\u001b[0m\n\u001b[0;31m    x='hola''\u001b[0m\n\u001b[0m            ^\u001b[0m\n\u001b[0;31mSyntaxError\u001b[0m\u001b[0;31m:\u001b[0m unterminated string literal (detected at line 1)\n"
          ]
        }
      ]
    }
  ]
}