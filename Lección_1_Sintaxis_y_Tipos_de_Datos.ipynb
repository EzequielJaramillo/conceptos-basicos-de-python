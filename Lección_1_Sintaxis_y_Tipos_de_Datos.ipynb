{
  "nbformat": 4,
  "nbformat_minor": 0,
  "metadata": {
    "colab": {
      "provenance": []
    },
    "kernelspec": {
      "name": "python3",
      "display_name": "Python 3"
    },
    "language_info": {
      "name": "python"
    }
  },
  "cells": [
    {
      "cell_type": "markdown",
      "source": [
        "#sintaxis y tipos de datos en python\n",
        "\n",
        "Python como todo lenguaje de programación tiene sus propias reglas y sintaxis, aunque a la hora de programar la lógica sea lo mas importante el dominio de la sintaxis y reglas del lenguaje de programación a usarse también lo son, es por ello que vamos a dar un  vistazo a las reglas de programación que Python ofrece, para sacarle el máximo provecho posible."
      ],
      "metadata": {
        "id": "W7b6ydZIhLZ4"
      }
    },
    {
      "cell_type": "markdown",
      "source": [
        "##Variables en Pyhton\n",
        "\n",
        "###Qué son?\n",
        "\n",
        "Las variables en Python cumplen el papel de conectores capaces de almacenar datos, los cuales podemos llamar a través del nombre bajo el que la variable se almacenó, esto garantiza que si hay algún cambio que hacer a dicha variable solo se tenga que hacer la corrección a la línea de código donde están almacenadas las variables y no a todas las líneas de código en las que estas estén siendo usadas.\n",
        "\n",
        "### ¿cómo se utilizan?\n",
        "\n",
        "Su uso principal es el almacenamiento y manipulación de datos, esto se logra asignándole un valor a la variable el cual se podrá modificar de acuerdo a las necesidades que se presenten. Ejemplo:\n",
        "\n"
      ],
      "metadata": {
        "id": "RiVzMifZz4JL"
      }
    },
    {
      "cell_type": "code",
      "source": [
        "x = 10\n",
        "y = 20\n",
        "z = x + y\n",
        "print(z)\n"
      ],
      "metadata": {
        "colab": {
          "base_uri": "https://localhost:8080/"
        },
        "id": "OU83Crid2vdR",
        "outputId": "8ea36cc4-8523-40f9-908f-296e7df94bd0"
      },
      "execution_count": null,
      "outputs": [
        {
          "output_type": "stream",
          "name": "stdout",
          "text": [
            "30\n"
          ]
        }
      ]
    },
    {
      "cell_type": "markdown",
      "source": [
        "##¿Cómo nombrar variables?\n",
        "\n",
        "Según lo aprendido en la lección anterior del pep 8 a la hora de nombrar variables en Python es importante seguir una serie de reglas para asegurar la mejor comprensión del código posible estas son:\n",
        "\n",
        "•\t**Nombres precisos**: se recomienda usar nombres precisos sobre lo que la variable representa\n",
        "\n",
        "•\t**distinción de mayúsculas u minúsculas**: Python es un lenguaje capaz de diferenciar entre mayúsculas y minúsculas por lo que es importante ser claros y consientes de la escritura que se le esta dando a las variables\n",
        "\n",
        "•\t**iniciación**: toda variable debe comenzar con una letra o guion bajo esto ayuda a una mejor visualización de las variables\n",
        "\n",
        "•\t**no usar palabras reservadas**: hay que tener cuidado de uno usar alguna de las palabras reservas de el mismo lenguaje para no tener errores de compilación en el código\n"
      ],
      "metadata": {
        "id": "q87X7S-K73Oe"
      }
    },
    {
      "cell_type": "markdown",
      "source": [
        "##tipos de datos\n",
        "En Python existen múltiples tipos de datos, y la manera mas practica de mostrarlos es a través de ejemplos:\n",
        "\n",
        "**Números**: Enteros (`int`), decimales (`float`) y complejos (`complex`)\n"
      ],
      "metadata": {
        "id": "WWUNc23Y9H32"
      }
    },
    {
      "cell_type": "code",
      "source": [
        "entero = 10\n",
        "decimal = 10.5\n",
        "complejo = 1 + 2j\n"
      ],
      "metadata": {
        "id": "jRWPL9QN9LgD"
      },
      "execution_count": null,
      "outputs": []
    },
    {
      "cell_type": "markdown",
      "source": [
        "**Cadenas de Texto** (`str`)"
      ],
      "metadata": {
        "id": "e4LZNQ-r9PQ7"
      }
    },
    {
      "cell_type": "code",
      "source": [
        "cadena = \"Hola Mundo\"\n"
      ],
      "metadata": {
        "id": "-1wLzcSd9ZL6"
      },
      "execution_count": null,
      "outputs": []
    },
    {
      "cell_type": "markdown",
      "source": [
        "**Listas** (`list`): Las listas son colecciones ordenadas y mutables (pueden cambiarse). Son muy versátiles y se utilizan cuando necesitas una colección de elementos donde el orden y la posibilidad de modificar los elementos sean importantes."
      ],
      "metadata": {
        "id": "XlZ7Gf329lXj"
      }
    },
    {
      "cell_type": "code",
      "source": [
        "lista = [1, 2, 3, 4]\n"
      ],
      "metadata": {
        "id": "8VgEv5Zp9s1u"
      },
      "execution_count": null,
      "outputs": []
    },
    {
      "cell_type": "code",
      "source": [
        "lista = [1, 2, 3, 4]\n",
        "lista.append(5)    # Añadir un elemento\n",
        "lista[0] = 0       # Modificar un elemento\n",
        "print(lista)"
      ],
      "metadata": {
        "colab": {
          "base_uri": "https://localhost:8080/"
        },
        "id": "gX8rm87Y_7pI",
        "outputId": "a95d4d00-185c-4239-ccc7-3babcc68d256"
      },
      "execution_count": null,
      "outputs": [
        {
          "output_type": "stream",
          "name": "stdout",
          "text": [
            "[0, 2, 3, 4, 5]\n"
          ]
        }
      ]
    },
    {
      "cell_type": "markdown",
      "source": [
        "**Conjuntos** (`set`): Los conjuntos son colecciones desordenadas de elementos únicos. Se utilizan cuando necesitas una colección de elementos donde la unicidad es importante y el orden no es relevante."
      ],
      "metadata": {
        "id": "FRAsJvxM92C-"
      }
    },
    {
      "cell_type": "code",
      "source": [
        "conjunto = {1, 2, 3, 4}\n"
      ],
      "metadata": {
        "id": "fN_HOsWb9-Oo"
      },
      "execution_count": null,
      "outputs": []
    },
    {
      "cell_type": "code",
      "source": [
        "conjunto = {1, 2, 3, 4}\n",
        "conjunto.add(5)    # Añadir un elemento\n",
        "conjunto.add(2)    # Añadir un elemento duplicado no tendrá efecto\n",
        "print(conjunto)"
      ],
      "metadata": {
        "colab": {
          "base_uri": "https://localhost:8080/"
        },
        "id": "SmSqxx8I_vRh",
        "outputId": "a44ecc58-54e9-4778-f516-66790b6dac15"
      },
      "execution_count": null,
      "outputs": [
        {
          "output_type": "stream",
          "name": "stdout",
          "text": [
            "{1, 2, 3, 4, 5}\n"
          ]
        }
      ]
    },
    {
      "cell_type": "markdown",
      "source": [
        "**Tuplas** (`tuple`): Las tuplas son colecciones ordenadas pero inmutables (no pueden cambiarse después de su creación). Se utilizan cuando necesitas una colección de elementos que no deben cambiar."
      ],
      "metadata": {
        "id": "icdpyr0s-Ead"
      }
    },
    {
      "cell_type": "code",
      "source": [
        "tupla = (1, 2, 3, 4)\n"
      ],
      "metadata": {
        "id": "MMQugG8G-MFI"
      },
      "execution_count": null,
      "outputs": []
    },
    {
      "cell_type": "code",
      "source": [
        "tupla = (1, 2, 3, 4)\n",
        "# tupla[0] = 0  # Esto causará un error ya que las tuplas son inmutables\n",
        "print(tupla)"
      ],
      "metadata": {
        "colab": {
          "base_uri": "https://localhost:8080/"
        },
        "id": "WtGN4dSZ_jnF",
        "outputId": "55d5cc53-7c49-4eda-e066-9f918cbedc7e"
      },
      "execution_count": null,
      "outputs": [
        {
          "output_type": "stream",
          "name": "stdout",
          "text": [
            "(1, 2, 3, 4)\n"
          ]
        }
      ]
    },
    {
      "cell_type": "markdown",
      "source": [
        "```\n",
        "Entre tuplas, conjuntos y listas es importante prestar especial atención a los signos que las encierra y su uso especifico\n",
        "```"
      ],
      "metadata": {
        "id": "mGCXZMys-Vht"
      }
    },
    {
      "cell_type": "markdown",
      "source": [
        "**Diccionarios** (`dict`): Se utilizan para almacenar y acceder a datos de manera eficiente cuando se requiere una relación clave-valor. Son especialmente útiles para búsquedas rápidas, almacenamiento de configuraciones, contadores y agrupaciones de datos."
      ],
      "metadata": {
        "id": "Tfaso0seAFjs"
      }
    },
    {
      "cell_type": "code",
      "source": [
        "diccionario = {\"clave\": \"valor\"}\n"
      ],
      "metadata": {
        "id": "0sPdlTvJAc6o"
      },
      "execution_count": null,
      "outputs": []
    },
    {
      "cell_type": "code",
      "source": [
        "# Crear un diccionario\n",
        "diccionario = {\n",
        "    \"nombre\": \"Ezequiel\",\n",
        "    \"edad\": 23,\n",
        "    \"ocupacion\": \"Estudiante\"\n",
        "}\n",
        "\n",
        "# Acceder a un valor usando su clave\n",
        "print(diccionario[\"nombre\"])\n",
        "\n",
        "# Modificar un valor\n",
        "diccionario[\"edad\"] = 24\n",
        "\n",
        "# Añadir un nuevo par clave-valor\n",
        "diccionario[\"ciudad\"] = \"Panamá\"\n",
        "\n",
        "# Eliminar un par clave-valor\n",
        "del diccionario[\"ocupacion\"]\n",
        "\n",
        "# Iterar sobre un diccionario\n",
        "for clave, valor in diccionario.items():\n",
        "    print(f\"{clave}: {valor}\")\n",
        "\n",
        "# Comprobar si una clave existe en el diccionario\n",
        "if \"edad\" in diccionario:\n",
        "    print(\"La clave 'edad' existe en el diccionario.\")\n"
      ],
      "metadata": {
        "colab": {
          "base_uri": "https://localhost:8080/"
        },
        "id": "VFl5__cgA0OB",
        "outputId": "e60ccfac-97d9-4b45-f87a-e05e572650d5"
      },
      "execution_count": null,
      "outputs": [
        {
          "output_type": "stream",
          "name": "stdout",
          "text": [
            "Ezequiel\n",
            "nombre: Ezequiel\n",
            "edad: 24\n",
            "ciudad: Panamá\n",
            "La clave 'edad' existe en el diccionario.\n"
          ]
        }
      ]
    },
    {
      "cell_type": "markdown",
      "source": [
        "##Métods mas usados en diccionarios  \n",
        "\n",
        "**métod get:** diccionario.get(clave, valor_predeterminado), Devuelve el valor de la clave si existe, de lo contrario devuelve valor_predeterminado."
      ],
      "metadata": {
        "id": "MgouKPeZCy_r"
      }
    },
    {
      "cell_type": "code",
      "source": [
        "print(diccionario.get(\"nombre\", \"No encontrado\"))\n",
        "print(diccionario.get(\"direccion\", \"No encontrado\"))"
      ],
      "metadata": {
        "colab": {
          "base_uri": "https://localhost:8080/"
        },
        "id": "QHMdvdWJDRJa",
        "outputId": "b8c391ff-76ef-40a3-aa70-b0ff601780a7"
      },
      "execution_count": null,
      "outputs": [
        {
          "output_type": "stream",
          "name": "stdout",
          "text": [
            "Ezequiel\n",
            "No encontrado\n"
          ]
        }
      ]
    },
    {
      "cell_type": "markdown",
      "source": [
        "**métod Key:** diccionario.keys(), Devuelve una vista de las claves en el diccionario"
      ],
      "metadata": {
        "id": "UqeJvO8ODblr"
      }
    },
    {
      "cell_type": "code",
      "source": [
        "print(diccionario.keys())"
      ],
      "metadata": {
        "colab": {
          "base_uri": "https://localhost:8080/"
        },
        "id": "8d6_l8EcDoDN",
        "outputId": "f354eb05-5c6c-49f1-c41f-ff413a69c3d8"
      },
      "execution_count": null,
      "outputs": [
        {
          "output_type": "stream",
          "name": "stdout",
          "text": [
            "dict_keys(['nombre', 'edad', 'ciudad'])\n"
          ]
        }
      ]
    },
    {
      "cell_type": "markdown",
      "source": [
        "**métod Value:** diccionario.values(), Devuelve una vista de los valores en el diccionario."
      ],
      "metadata": {
        "id": "2wo5M2fgDvc3"
      }
    },
    {
      "cell_type": "code",
      "source": [
        "print(diccionario.values())"
      ],
      "metadata": {
        "colab": {
          "base_uri": "https://localhost:8080/"
        },
        "id": "lla1c9Z2D1xY",
        "outputId": "6dd487eb-b8e0-48d1-bd67-19f90d8a99a7"
      },
      "execution_count": null,
      "outputs": [
        {
          "output_type": "stream",
          "name": "stdout",
          "text": [
            "dict_values(['Ezequiel', 24, 'Panamá'])\n"
          ]
        }
      ]
    },
    {
      "cell_type": "markdown",
      "source": [
        "**métod items:** diccionario.items(), Devuelve una vista de los pares clave-valor en el diccionario."
      ],
      "metadata": {
        "id": "dIkETkCTD9rx"
      }
    },
    {
      "cell_type": "code",
      "source": [
        "print(diccionario.items())"
      ],
      "metadata": {
        "colab": {
          "base_uri": "https://localhost:8080/"
        },
        "id": "-hNM_kD8EHj1",
        "outputId": "30749e6f-bb85-4492-8220-716a6e304d06"
      },
      "execution_count": null,
      "outputs": [
        {
          "output_type": "stream",
          "name": "stdout",
          "text": [
            "dict_items([('nombre', 'Ezequiel'), ('edad', 24), ('ciudad', 'Panamá')])\n"
          ]
        }
      ]
    },
    {
      "cell_type": "markdown",
      "source": [
        "**métod update:** diccionario.update(otro_diccionario), Actualiza el diccionario con los pares clave-valor de otro_diccionario."
      ],
      "metadata": {
        "id": "bNW8S_7nESoj"
      }
    },
    {
      "cell_type": "code",
      "source": [
        "otro_diccionario = {\"pais\": \"Panamá\", \"lenguaje\": \"Python\"}\n",
        "diccionario.update(otro_diccionario)\n",
        "print(diccionario)"
      ],
      "metadata": {
        "colab": {
          "base_uri": "https://localhost:8080/"
        },
        "id": "kIOqD8o-FzUk",
        "outputId": "58d4c8a9-4300-48cc-de2a-6fdc17f750f1"
      },
      "execution_count": null,
      "outputs": [
        {
          "output_type": "stream",
          "name": "stdout",
          "text": [
            "{'nombre': 'Ezequiel', 'edad': 24, 'ciudad': 'Panamá', 'pais': 'Panamá', 'lenguaje': 'Python'}\n"
          ]
        }
      ]
    },
    {
      "cell_type": "markdown",
      "source": [
        "##Tipos de Salida en Python\n",
        "\n",
        "Python gestiona la salida de datos utilizando la función `print()`. Esta función puede imprimir cadenas, números y otros tipos de datos"
      ],
      "metadata": {
        "id": "V099X_T9G-tW"
      }
    },
    {
      "cell_type": "code",
      "source": [
        "nombre = \"Ezequiel\"\n",
        "edad = 25\n",
        "print(\"Nombre:\", nombre, \"Edad:\", edad)\n"
      ],
      "metadata": {
        "colab": {
          "base_uri": "https://localhost:8080/"
        },
        "id": "y7jFMmroHK3C",
        "outputId": "cc007247-9d3d-4903-e51d-104b276b2fdc"
      },
      "execution_count": null,
      "outputs": [
        {
          "output_type": "stream",
          "name": "stdout",
          "text": [
            "Nombre: Ezequiel Edad: 25\n"
          ]
        }
      ]
    },
    {
      "cell_type": "markdown",
      "source": [
        "**Operadores de Asignación:** Se utilizan para asignar valores a las variables."
      ],
      "metadata": {
        "id": "7lsSUWIaHU6G"
      }
    },
    {
      "cell_type": "code",
      "source": [
        "x = 5\n",
        "x += 3  # Equivalente a x = x + 3\n",
        "print(x)"
      ],
      "metadata": {
        "colab": {
          "base_uri": "https://localhost:8080/"
        },
        "id": "e-17QCrRHm-R",
        "outputId": "c0cb20f4-6de3-4e99-d27e-7de6630171e3"
      },
      "execution_count": null,
      "outputs": [
        {
          "output_type": "stream",
          "name": "stdout",
          "text": [
            "8\n"
          ]
        }
      ]
    },
    {
      "cell_type": "code",
      "source": [
        "x = 5\n",
        "x -= 3  # Equivalente a x = x - 3\n",
        "print(x)"
      ],
      "metadata": {
        "colab": {
          "base_uri": "https://localhost:8080/"
        },
        "id": "gT4GStABHuu3",
        "outputId": "1559bdf6-e16c-4dd2-bd0c-238eceeaf8fb"
      },
      "execution_count": null,
      "outputs": [
        {
          "output_type": "stream",
          "name": "stdout",
          "text": [
            "2\n"
          ]
        }
      ]
    },
    {
      "cell_type": "code",
      "source": [
        "x = 5\n",
        "x *= 3  # Equivalente a x = x * 3\n",
        "print(x)"
      ],
      "metadata": {
        "colab": {
          "base_uri": "https://localhost:8080/"
        },
        "id": "XDcB9EsXH09C",
        "outputId": "23223f56-b8a8-427a-b90e-96a290315758"
      },
      "execution_count": null,
      "outputs": [
        {
          "output_type": "stream",
          "name": "stdout",
          "text": [
            "15\n"
          ]
        }
      ]
    },
    {
      "cell_type": "code",
      "source": [
        "x = 5\n",
        "x /= 3  # Equivalente a x = x / 3\n",
        "print(x)"
      ],
      "metadata": {
        "colab": {
          "base_uri": "https://localhost:8080/"
        },
        "id": "b540G1fvH578",
        "outputId": "c7ac7768-d3c9-4cb0-d1aa-15004b0e81ca"
      },
      "execution_count": null,
      "outputs": [
        {
          "output_type": "stream",
          "name": "stdout",
          "text": [
            "1.6666666666666667\n"
          ]
        }
      ]
    },
    {
      "cell_type": "markdown",
      "source": [
        "**Operadores Aritméticos:** Se utilizan para realizar operaciones matemáticas comunes"
      ],
      "metadata": {
        "id": "dV_ZcQDYIJkC"
      }
    },
    {
      "cell_type": "code",
      "source": [
        "a = 10\n",
        "b = 3\n",
        "print(a + b)  # Suma\n",
        "print(a - b)  # Resta\n",
        "print(a * b)  # Multiplicación\n",
        "print(a / b)  # División\n",
        "print(a % b)  # Módulo\n",
        "print(a ** b) # Exponenciación\n",
        "print(a // b) # División entera\n"
      ],
      "metadata": {
        "colab": {
          "base_uri": "https://localhost:8080/"
        },
        "id": "05edgJ7fIWsj",
        "outputId": "7f876a7b-53ee-4409-a7b0-bf712246ed1a"
      },
      "execution_count": null,
      "outputs": [
        {
          "output_type": "stream",
          "name": "stdout",
          "text": [
            "13\n",
            "7\n",
            "30\n",
            "3.3333333333333335\n",
            "1\n",
            "1000\n",
            "3\n"
          ]
        }
      ]
    },
    {
      "cell_type": "markdown",
      "source": [
        "**Operadores Relacionales:** Comparan dos valores."
      ],
      "metadata": {
        "id": "gnJKEcz_IrD4"
      }
    },
    {
      "cell_type": "code",
      "source": [
        "x = 10\n",
        "y = 20\n",
        "print(x == y)  # Igual a\n",
        "print(x != y)  # Diferente de\n",
        "print(x > y)   # Mayor que\n",
        "print(x < y)   # Menor que\n",
        "print(x >= y)  # Mayor o igual que\n",
        "print(x <= y)  # Menor o igual que\n"
      ],
      "metadata": {
        "colab": {
          "base_uri": "https://localhost:8080/"
        },
        "id": "cwOHq5R1I1NT",
        "outputId": "b6a98ee9-318e-4627-84fe-78c78511dded"
      },
      "execution_count": null,
      "outputs": [
        {
          "output_type": "stream",
          "name": "stdout",
          "text": [
            "False\n",
            "True\n",
            "False\n",
            "True\n",
            "False\n",
            "True\n"
          ]
        }
      ]
    },
    {
      "cell_type": "markdown",
      "source": [
        "**Operadores Lógicos:** Se utilizan para combinar expresiones condicionales."
      ],
      "metadata": {
        "id": "SgMwra9bJApy"
      }
    },
    {
      "cell_type": "code",
      "source": [
        "a = True\n",
        "b = False\n",
        "print(a and b) # AND\n",
        "print(a or b)  # OR\n",
        "print(not a)   # NOT\n"
      ],
      "metadata": {
        "colab": {
          "base_uri": "https://localhost:8080/"
        },
        "id": "2_X0ZAYNJSHh",
        "outputId": "b99c674f-b25c-4cac-f25a-a290786f37d3"
      },
      "execution_count": null,
      "outputs": [
        {
          "output_type": "stream",
          "name": "stdout",
          "text": [
            "False\n",
            "True\n",
            "False\n"
          ]
        }
      ]
    },
    {
      "cell_type": "markdown",
      "source": [
        "**Operadores Bitwise:** Los operadores bitwise (a nivel de bits) permiten la manipulación directa de bits dentro de un número entero. Son útiles en aplicaciones de bajo nivel, tales como programación de sistemas embebidos, criptografía y manipulación de datos binarios."
      ],
      "metadata": {
        "id": "HjHxmqI6J4kE"
      }
    },
    {
      "cell_type": "code",
      "source": [
        "x = 10  # 1010 en binario\n",
        "y = 4   # 0100 en binario\n",
        "print(x & y)  # AND\n",
        "print(x | y)  # OR\n",
        "print(x ^ y)  # XOR\n",
        "print(~x)     # NOT\n",
        "print(x << 2) # Desplazamiento a la izquierda\n",
        "print(x >> 2) # Desplazamiento a la derecha\n"
      ],
      "metadata": {
        "colab": {
          "base_uri": "https://localhost:8080/"
        },
        "id": "USCkdnmYKANl",
        "outputId": "95a38dfd-b660-43a2-87fc-9bfaf1a1afc7"
      },
      "execution_count": null,
      "outputs": [
        {
          "output_type": "stream",
          "name": "stdout",
          "text": [
            "0\n",
            "14\n",
            "14\n",
            "-11\n",
            "40\n",
            "2\n"
          ]
        }
      ]
    },
    {
      "cell_type": "markdown",
      "source": [
        "**Operadores de Identidad:** Comprueban si dos variables son el mismo objeto."
      ],
      "metadata": {
        "id": "VXSgJ4GQKOUT"
      }
    },
    {
      "cell_type": "code",
      "source": [
        "a = [1, 2, 3]\n",
        "b = a\n",
        "print(a is b)\n",
        "print(a is not b)\n"
      ],
      "metadata": {
        "colab": {
          "base_uri": "https://localhost:8080/"
        },
        "id": "_VM364PPKWv8",
        "outputId": "9f42855e-b28a-4b13-83f6-0b128a3b7b53"
      },
      "execution_count": null,
      "outputs": [
        {
          "output_type": "stream",
          "name": "stdout",
          "text": [
            "True\n",
            "False\n"
          ]
        }
      ]
    },
    {
      "cell_type": "markdown",
      "source": [
        "**Operadores de Membresía:** Comprueban si un valor está presente en una secuencia"
      ],
      "metadata": {
        "id": "dYoagpoVKfyS"
      }
    },
    {
      "cell_type": "code",
      "source": [
        "lista = [1, 2, 3, 4]\n",
        "print(2 in lista)\n",
        "print(5 not in lista)\n"
      ],
      "metadata": {
        "colab": {
          "base_uri": "https://localhost:8080/"
        },
        "id": "TNm2SW9hKlnf",
        "outputId": "3c1bd185-aede-4f0d-cebe-fd2681ef09c1"
      },
      "execution_count": null,
      "outputs": [
        {
          "output_type": "stream",
          "name": "stdout",
          "text": [
            "True\n",
            "True\n"
          ]
        }
      ]
    },
    {
      "cell_type": "markdown",
      "source": [
        "**Operador Walrus (:=):** Asignación y evaluación en una sola expresión."
      ],
      "metadata": {
        "id": "11cKpxIiK9GW"
      }
    },
    {
      "cell_type": "code",
      "source": [
        "if (n := len(lista)) > 3:\n",
        "    print(f\"La lista tiene {n} elementos.\")\n"
      ],
      "metadata": {
        "colab": {
          "base_uri": "https://localhost:8080/"
        },
        "id": "nkeUGiYaLFnI",
        "outputId": "8462df8b-21f9-4ccb-d0c4-8e3657e69ef1"
      },
      "execution_count": null,
      "outputs": [
        {
          "output_type": "stream",
          "name": "stdout",
          "text": [
            "La lista tiene 4 elementos.\n"
          ]
        }
      ]
    },
    {
      "cell_type": "markdown",
      "source": [
        "##Comentarios en python\n",
        "\n",
        "Los comentarios son cruciales para documentar el código y explicar qué hace. Se ignoran durante la ejecución del programa"
      ],
      "metadata": {
        "id": "1iUPtvL3LXXk"
      }
    },
    {
      "cell_type": "code",
      "source": [
        "# Esto es un comentario\n"
      ],
      "metadata": {
        "id": "pepuLDptLgEu"
      },
      "execution_count": null,
      "outputs": []
    },
    {
      "cell_type": "markdown",
      "source": [
        "##Asignación Simultánea\n",
        "\n",
        "Permite asignar valores a múltiples variables en una sola línea."
      ],
      "metadata": {
        "id": "BHalbswSMGSn"
      }
    },
    {
      "cell_type": "code",
      "source": [
        "a, b, c = 1, 2, 3\n",
        "print(a, b, c)"
      ],
      "metadata": {
        "colab": {
          "base_uri": "https://localhost:8080/"
        },
        "id": "abPVm65QMNWU",
        "outputId": "d4305f2a-e6d2-46bc-f38b-d8affe18bda8"
      },
      "execution_count": null,
      "outputs": [
        {
          "output_type": "stream",
          "name": "stdout",
          "text": [
            "1 2 3\n"
          ]
        }
      ]
    },
    {
      "cell_type": "markdown",
      "source": [
        "##Reglas de Nomenclatura y Convenciones\n",
        "\n",
        "**nombre_caso:** Se usa para nombres de variables y funciones"
      ],
      "metadata": {
        "id": "GdYB_6YpMeBX"
      }
    },
    {
      "cell_type": "code",
      "source": [
        "mi_variable = 10\n",
        "def mi_funcion():\n",
        "    pass\n"
      ],
      "metadata": {
        "id": "edquvujMQvnV"
      },
      "execution_count": null,
      "outputs": []
    },
    {
      "cell_type": "markdown",
      "source": [
        "**NombreClase:** Se usa para nombres de clases."
      ],
      "metadata": {
        "id": "8zPqNN7_RCFn"
      }
    },
    {
      "cell_type": "code",
      "source": [
        "class MiClase:\n",
        "    pass\n"
      ],
      "metadata": {
        "id": "qRLVPYEORIw_"
      },
      "execution_count": null,
      "outputs": []
    },
    {
      "cell_type": "markdown",
      "source": [
        "**rivadas:** Los nombres privados comienzan con un guion bajo (_)"
      ],
      "metadata": {
        "id": "1_fuW3UbRQYX"
      }
    },
    {
      "cell_type": "code",
      "source": [
        "_variable_privada = 20\n"
      ],
      "metadata": {
        "id": "0UmVCGwnRPmC"
      },
      "execution_count": null,
      "outputs": []
    },
    {
      "cell_type": "markdown",
      "source": [
        "**Protegidas:** Se utiliza un doble guion bajo (__) al principio para indicar que no deben ser accesibles directamente"
      ],
      "metadata": {
        "id": "aTrEgNvhRfE4"
      }
    },
    {
      "cell_type": "code",
      "source": [
        "__variable_protegida = 30\n"
      ],
      "metadata": {
        "id": "wYAlXw8KRjWg"
      },
      "execution_count": null,
      "outputs": []
    },
    {
      "cell_type": "markdown",
      "source": [
        "##Palabras Reservadas\n",
        "\n",
        "\n",
        "Para imprimir todas las palabras reservadas en Python, puedes usar el módulo keyword. Este módulo proporciona la lista de todas las palabras reservadas en Python usando el comando `keyword.kwlist`, ejemplo:"
      ],
      "metadata": {
        "id": "KA3TuHpmRmuL"
      }
    },
    {
      "cell_type": "code",
      "source": [
        "import keyword\n",
        "\n",
        "print(keyword.kwlist)\n"
      ],
      "metadata": {
        "colab": {
          "base_uri": "https://localhost:8080/"
        },
        "id": "fy35nB23SBEv",
        "outputId": "a86f95ec-77c5-48ee-88eb-3d6ec4f0a5d5"
      },
      "execution_count": null,
      "outputs": [
        {
          "output_type": "stream",
          "name": "stdout",
          "text": [
            "['False', 'None', 'True', 'and', 'as', 'assert', 'async', 'await', 'break', 'class', 'continue', 'def', 'del', 'elif', 'else', 'except', 'finally', 'for', 'from', 'global', 'if', 'import', 'in', 'is', 'lambda', 'nonlocal', 'not', 'or', 'pass', 'raise', 'return', 'try', 'while', 'with', 'yield']\n"
          ]
        }
      ]
    }
  ]
}