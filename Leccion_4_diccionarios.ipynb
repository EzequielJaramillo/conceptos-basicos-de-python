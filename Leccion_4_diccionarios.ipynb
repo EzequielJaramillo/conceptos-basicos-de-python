{
  "nbformat": 4,
  "nbformat_minor": 0,
  "metadata": {
    "colab": {
      "provenance": []
    },
    "kernelspec": {
      "name": "python3",
      "display_name": "Python 3"
    },
    "language_info": {
      "name": "python"
    }
  },
  "cells": [
    {
      "cell_type": "markdown",
      "source": [
        "#Diccionarios\n",
        "\n",
        "\n",
        "Los diccionarios en Python son una de las herramientas mas poderosas e importantes de Python los diccionarios almacenan colecciones clave-valor donde la clave y el valor son objetos de Python, cada clave corresponde a un valor en particular de modo que un valor se puede recuperar, insertar, modificar o eliminar convenientemente dada una clave. Una forma para crear diccionarios es usar llaves y dos puntos para separar las claves y los valores: `dic{}`"
      ],
      "metadata": {
        "id": "o3mMkTczK_5t"
      }
    },
    {
      "cell_type": "markdown",
      "source": [
        "## como crear un diccionario\n",
        "\n",
        "crear un diccionario en python es muy sencillo por ejemplo:"
      ],
      "metadata": {
        "id": "kzYFwtlo-aPC"
      }
    },
    {
      "cell_type": "code",
      "source": [
        "#diccionario vacio\n",
        "\n",
        "diccionario_prueba  = {}\n",
        "\n",
        "# diccionario con elementos\n",
        "\n",
        "diccionario_estudiante = {\n",
        "    'nombe': 'ezequiel',\n",
        "    'edad' : 24,\n",
        "    'carrera' : 'ingerniearia electrica'\n",
        "}"
      ],
      "metadata": {
        "id": "7ra921zK-4v4"
      },
      "execution_count": null,
      "outputs": []
    },
    {
      "cell_type": "markdown",
      "source": [
        "En el ejemplo anterior, nombre, edad, y carrera son las claves, y \"Ezequiel\", \"21\", y \"Ingeniería Eléctrica\" son los valores correspondientes."
      ],
      "metadata": {
        "id": "jVPyfpYTAJ7c"
      }
    },
    {
      "cell_type": "markdown",
      "source": [
        "## Características de los Diccionarios\n",
        "\n",
        "**Claves Únicas:** Cada clave en un diccionario debe ser única. Si intentas añadir una nueva clave que ya existe, se sobrescribirá el valor anterior.\n",
        "\n",
        "**Desordenados:** Los diccionarios no mantienen el orden de los elementos, a menos que uses una versión de Python 3.7 o posterior, donde se mantiene el orden de inserción.\n",
        "\n",
        "\n",
        "**Acceso Rápido:** Los diccionarios permiten acceder a los valores de manera muy rápida usando las claves.\n",
        "\n",
        "## Restricciones de los Diccionarios\n",
        "\n",
        "\n",
        "**Claves Inmutables:** Las claves deben ser de un tipo inmutable, como cadenas, números o tuplas. No puedes usar listas u otros diccionarios como claves.\n",
        "\n",
        "\n",
        "**Valores Cualquiera:** Los valores pueden ser de cualquier tipo, incluso otros diccionarios o listas.\n",
        "\n",
        "## Funciones CRUD\n",
        "\n",
        "**Crate:** Al inicio de de este tutorial se mostro como crear un diccionario, ahora se muestra como anexar elementos al mismo:"
      ],
      "metadata": {
        "id": "L1xtnrG-Bs_K"
      }
    },
    {
      "cell_type": "code",
      "source": [
        "diccionario_estudiante['universidad']='UTP'\n",
        "print(diccionario_estudiante['universidad'])"
      ],
      "metadata": {
        "colab": {
          "base_uri": "https://localhost:8080/"
        },
        "id": "U3qixzcbNNwO",
        "outputId": "0e8b746c-c1bf-4ad8-cfe7-aa216cff0d0a"
      },
      "execution_count": null,
      "outputs": [
        {
          "output_type": "stream",
          "name": "stdout",
          "text": [
            "UTP\n"
          ]
        }
      ]
    },
    {
      "cell_type": "markdown",
      "source": [
        "**Read:** se puede acceder a un valor usando su clave:"
      ],
      "metadata": {
        "id": "QT6vNxWLOSHc"
      }
    },
    {
      "cell_type": "code",
      "source": [
        "diccionario_estudiante['carrera']"
      ],
      "metadata": {
        "colab": {
          "base_uri": "https://localhost:8080/",
          "height": 35
        },
        "id": "qOnKmD9jOo1U",
        "outputId": "0f716732-2fe3-41f2-c90a-2ccb8d42246a"
      },
      "execution_count": null,
      "outputs": [
        {
          "output_type": "execute_result",
          "data": {
            "text/plain": [
              "'ingerniearia electrica'"
            ],
            "application/vnd.google.colaboratory.intrinsic+json": {
              "type": "string"
            }
          },
          "metadata": {},
          "execution_count": 5
        }
      ]
    },
    {
      "cell_type": "markdown",
      "source": [
        "**Update:** se puede actualizar el valor de un diccionaro asignando un nuevo valor a la clave:"
      ],
      "metadata": {
        "id": "exyL5T6WPAsf"
      }
    },
    {
      "cell_type": "code",
      "source": [
        "diccionario_estudiante['edad']=25\n",
        "print(diccionario_estudiante['edad'])\n"
      ],
      "metadata": {
        "colab": {
          "base_uri": "https://localhost:8080/"
        },
        "id": "C5w1iQT0Pdnx",
        "outputId": "82364444-1bad-4525-c690-d6f169401b72"
      },
      "execution_count": null,
      "outputs": [
        {
          "output_type": "stream",
          "name": "stdout",
          "text": [
            "25\n"
          ]
        }
      ]
    },
    {
      "cell_type": "markdown",
      "source": [
        "**Delete:** se puede eliminar un par clave valor usando los metodos `del` o `pop`"
      ],
      "metadata": {
        "id": "9OL__pnyPmd_"
      }
    },
    {
      "cell_type": "code",
      "source": [
        "del diccionario_estudiante['universidad']\n",
        "\n",
        "edad = diccionario_estudiante.pop('edad')\n",
        "\n",
        "print(diccionario_estudiante)\n"
      ],
      "metadata": {
        "colab": {
          "base_uri": "https://localhost:8080/"
        },
        "id": "o-R7s6ZDQFjt",
        "outputId": "90987591-9a3f-4473-a95d-07b2a94a84b0"
      },
      "execution_count": null,
      "outputs": [
        {
          "output_type": "stream",
          "name": "stdout",
          "text": [
            "{'nombe': 'ezequiel', 'carrera': 'ingerniearia electrica'}\n"
          ]
        }
      ]
    },
    {
      "cell_type": "markdown",
      "source": [
        "## Métodos de diccionarios\n",
        "\n",
        "|Metodo|funcion|sintaxis|\n",
        "|----|----|----|\n",
        "|clear()|Elimina todos los elementos del diccionario.|diccionario_estudiante.clear()|\n",
        "|copy()|Devuelve una copia superficial del diccionario|copia_diccionario_estudiante = diccionario_estudiante.copy()|\n",
        "|fromkeys(iterable, valor=None)|Crea un nuevo diccionario con claves de un iterable y les asigna un valor específico (por defecto, `None`)|nuevo_diccionario = dict.fromkeys([\"nombre\", \"edad\"], \"desconocido\")|\n",
        "|get(clave, valor_por_defecto=None|Devuelve el valor de la clave si existe, de lo contrario devuelve valor_por_defecto|universidad = diccionario_estudiante.get(\"universidad\", \"No asignado\")|\n",
        "|items()|Devuelve una vista de objetos dict_items que contiene pares clave-valor del diccionario|items = diccionario_estudiante.items()|\n",
        "|keys()|Devuelve una vista de objetos dict_keys con las claves del diccionario|claves = diccionario_estudiante.keys()|\n",
        "|pop(clave, valor_por_defecto=None)| Elimina la clave y devuelve su valor. Si la clave no existe, devuelve valor_por_defecto o lanza un error si no se especifica|edad = diccionario_estudiante.pop(\"edad\", None)|\n",
        "|popitem()|Elimina y devuelve un par clave-valor aleatorio del diccionario. Desde Python 3.7, se elimina el último par clave-valor|par = diccionario_estudiante.popitem()|\n",
        "|setdefault(clave, valor_por_defecto=None)|Devuelve el valor de la clave si existe; si no, la agrega con valor_por_defecto y devuelve ese valor|universidad = diccionario_estudiante.setdefault(\"universidad\", \"UTP\")|\n",
        "|pdate(otro_diccionario)|Actualiza el diccionario con los pares clave-valor de otro diccionario o con pares clave-valor proporcionados como argumentos|diccionario_estudiante.update({\"promedio\": 4.5, \"carrera\": \"Ingeniería Electrónica\"})|\n",
        "|values()|Devuelve una vista de objetos dict_values con los valores del diccionario|valores = diccionario_estudiante.values()|\n",
        "\n",
        "Un ejemplo resumido de los metodos:\n"
      ],
      "metadata": {
        "id": "B22VZluqRd-I"
      }
    },
    {
      "cell_type": "code",
      "source": [
        "# Crear un diccionario\n",
        "estudiante = {\"nombre\": \"Ezequiel\", \"edad\": 21, \"carrera\": \"Ingeniería Eléctrica\"}\n",
        "\n",
        "# Añadir una nueva clave si no existe\n",
        "estudiante.setdefault(\"universidad\", \"UTP\")\n",
        "\n",
        "# Actualizar el diccionario con nuevos datos\n",
        "estudiante.update({\"promedio\": 4.5})\n",
        "\n",
        "# Eliminar un elemento específico\n",
        "edad = estudiante.pop(\"edad\")\n",
        "\n",
        "# Obtener todas las claves y valores\n",
        "claves = estudiante.keys()\n",
        "valores = estudiante.values()\n",
        "\n",
        "# Copiar el diccionario\n",
        "copia_estudiante = estudiante.copy()\n",
        "\n",
        "# Eliminar todos los elementos\n",
        "copia_estudiante.clear()\n",
        "\n",
        "print(estudiante)"
      ],
      "metadata": {
        "colab": {
          "base_uri": "https://localhost:8080/"
        },
        "id": "fZwp7tqgc1Nn",
        "outputId": "0b36acd7-fe6e-4da3-e47b-90ce5a4da1bb"
      },
      "execution_count": null,
      "outputs": [
        {
          "output_type": "stream",
          "name": "stdout",
          "text": [
            "{'nombre': 'Ezequiel', 'carrera': 'Ingeniería Eléctrica', 'universidad': 'UTP', 'promedio': 4.5}\n"
          ]
        }
      ]
    },
    {
      "cell_type": "markdown",
      "source": [
        "## Iteración y Slicing en Diccionarios\n",
        "\n",
        "**Iteración:** Se puede iterar sobre un diccionario para acceder a las claves, valores, o ambos:\n"
      ],
      "metadata": {
        "id": "gcIRUN0Fgkl2"
      }
    },
    {
      "cell_type": "code",
      "source": [
        "# Iterar sobre claves\n",
        "for clave in estudiante:\n",
        "    print(clave)\n",
        "\n",
        "# Iterar sobre valores\n",
        "for valor in estudiante.values():\n",
        "    print(valor)\n",
        "\n",
        "# Iterar sobre pares clave-valor\n",
        "for clave, valor in estudiante.items():\n",
        "    print(f\"{clave}: {valor}\")\n"
      ],
      "metadata": {
        "colab": {
          "base_uri": "https://localhost:8080/"
        },
        "id": "-LzTeRE3gyWZ",
        "outputId": "fdac6c44-ad8f-49eb-8510-1f45b93a142a"
      },
      "execution_count": null,
      "outputs": [
        {
          "output_type": "stream",
          "name": "stdout",
          "text": [
            "nombre\n",
            "carrera\n",
            "universidad\n",
            "promedio\n",
            "Ezequiel\n",
            "Ingeniería Eléctrica\n",
            "UTP\n",
            "4.5\n",
            "nombre: Ezequiel\n",
            "carrera: Ingeniería Eléctrica\n",
            "universidad: UTP\n",
            "promedio: 4.5\n"
          ]
        }
      ]
    },
    {
      "cell_type": "markdown",
      "source": [
        "**Slicing:** El concepto de slicing no se aplica directamente a los diccionarios como en las listas, pero puedes usar diccionarios de comprensión para crear subdiccionarios"
      ],
      "metadata": {
        "id": "dM9bdk29h4O_"
      }
    },
    {
      "cell_type": "code",
      "source": [
        "# Filtrar un diccionario para obtener solo los elementos que cumplan una condición\n",
        "sub_diccionario = {k: v for k, v in estudiante.items() if k != \"edad\"}\n",
        "print(sub_diccionario)"
      ],
      "metadata": {
        "colab": {
          "base_uri": "https://localhost:8080/"
        },
        "id": "G3EQO_lNiRyh",
        "outputId": "326d189c-d4a1-4506-a900-aabed1c99333"
      },
      "execution_count": null,
      "outputs": [
        {
          "output_type": "stream",
          "name": "stdout",
          "text": [
            "{'nombre': 'Ezequiel', 'carrera': 'Ingeniería Eléctrica', 'universidad': 'UTP', 'promedio': 4.5}\n"
          ]
        }
      ]
    },
    {
      "cell_type": "markdown",
      "source": [
        "## Conclusión\n",
        "\n",
        "Los diccionarios son herramientas muy utiles y poderosas que nos ofrece python, estas dan la libertad de almacenar datos y manipularlos de manera eficiente, comprenderlos hace posible escribir codigo más organizado y eficiente."
      ],
      "metadata": {
        "id": "Uf6UvVRJigJN"
      }
    }
  ]
}