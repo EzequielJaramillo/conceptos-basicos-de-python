{
  "cells": [
    {
      "cell_type": "markdown",
      "id": "ae7a3e3c",
      "metadata": {
        "id": "ae7a3e3c"
      },
      "source": [
        "\n",
        "# Lección 6 — **Funciones en Python**\n",
        "\n",
        "En esta lección aprenderás a trabajar con funciones en Python, uno de los conceptos más importantes de la programación.\n",
        "Las funciones son bloques de código que nos permiten organizar, reutilizar y simplificar nuestro trabajo.\n",
        "\n",
        "Con ellas podrás resolver problemas grandes dividiéndolos en partes pequeñas, claras y fáciles de mantener.\n"
      ]
    },
    {
      "cell_type": "markdown",
      "id": "b9aa9618",
      "metadata": {
        "id": "b9aa9618"
      },
      "source": [
        "\n",
        "##  ¿Qué es una función?\n",
        "Una función en Python es un bloque de código en el que guardamos indicaciones de código que usaremos mas beses dentro del programa que estemos creando, con estas evitamos repetir el mismo bloque de código una y otra vez, haciendo nuestro programa mas eficiente en funcionamiento y en consumo de memoria.\n"
      ]
    },
    {
      "cell_type": "markdown",
      "id": "a2ed74df",
      "metadata": {
        "id": "a2ed74df"
      },
      "source": [
        "\n",
        "## 2) creacion de funciones\n",
        "En Python usamos la palabra clave `def` para **definir** una función.\n",
        "\n",
        "Estructura general:\n",
        "```\n",
        "def nombre_de_funcion(parámetros_opcionales):\n",
        "    # bloque de instrucciones (con sangría)\n",
        "    return (opcional)  # valor que la función devuelve\n",
        "```\n"
      ]
    },
    {
      "cell_type": "code",
      "execution_count": null,
      "id": "caf7a56c",
      "metadata": {
        "colab": {
          "base_uri": "https://localhost:8080/"
        },
        "id": "caf7a56c",
        "outputId": "45eecf72-22e0-4afc-8b42-68cc456d31ab"
      },
      "outputs": [
        {
          "output_type": "stream",
          "name": "stdout",
          "text": [
            "¡Hola! Bienvenido a Python.\n"
          ]
        }
      ],
      "source": [
        "\n",
        "def saludar():\n",
        "    \"\"\"Imprime un saludo en pantalla.\"\"\"\n",
        "    print(\"¡Hola! Bienvenido a Python.\")\n",
        "\n",
        "# Llamada a la función\n",
        "saludar()\n"
      ]
    },
    {
      "cell_type": "markdown",
      "id": "ff6b49dd",
      "metadata": {
        "id": "ff6b49dd"
      },
      "source": [
        "\n",
        "### Explicación\n",
        "- `def`: palabra clave para **definir**.\n",
        "- `nombre_de_funcion`: usa nombres claros en **snake_case** (minúsculas_con_guiones).\n",
        "- `(...)`: paréntesis. Dentro van **parámetros** (opcionales).\n",
        "- `:` dos puntos para indicar que empieza el **bloque**.\n",
        "- **Sangría**: el bloque de la función se escribe con **4 espacios** (Colab lo hace por ti).\n",
        "- `return`: valor que **devuelve** la función (opcional). Si no hay `return`, la función devuelve `None`.\n",
        "\n",
        "También puedes documentar la función con un **docstring** (texto entre comillas triples) para explicar su propósito, parámetros y retorno.\n"
      ]
    },
    {
      "cell_type": "code",
      "execution_count": null,
      "id": "706b0260",
      "metadata": {
        "id": "706b0260"
      },
      "outputs": [],
      "source": [
        "\n",
        "def sumar(a, b):\n",
        "    \"\"\"\n",
        "    Suma dos números.\n",
        "\n",
        "    Parámetros:\n",
        "      a (int | float): primer sumando\n",
        "      b (int | float): segundo sumando\n",
        "    Retorna:\n",
        "      int | float: resultado de a + b\n",
        "    \"\"\"\n",
        "    return a + b\n",
        "\n",
        "resultado = sumar(7, 5)\n",
        "print(\"Resultado:\", resultado)\n",
        "\n",
        "# Puedes ver la ayuda integrada:\n",
        "help(sumar)\n"
      ]
    },
    {
      "cell_type": "markdown",
      "id": "9870b649",
      "metadata": {
        "id": "9870b649"
      },
      "source": [
        "\n",
        "## 3) Reglas prácticas para **nombrar funciones**\n",
        "- **Claridad primero**: que el nombre diga qué hace (ej. `calcular_promedio`, `generar_reporte`).\n",
        "- **snake_case**: todo en minúsculas, separado por `_`.\n",
        "- **Verbos** para acciones (`obtener`, `calcular`, `convertir`, `imprimir`).\n",
        "- Evita nombres genéricos (`hacer_cosas`, `funcion1`) o muy crípticos (`x`, `tmp`).\n"
      ]
    },
    {
      "cell_type": "code",
      "execution_count": null,
      "id": "73691e05",
      "metadata": {
        "id": "73691e05"
      },
      "outputs": [],
      "source": [
        "\n",
        "# Buenos nombres\n",
        "def calcular_area_circulo(radio):\n",
        "    PI = 3.141592653589793\n",
        "    return PI * (radio ** 2)\n",
        "\n",
        "def convertir_celsius_a_fahrenheit(c):\n",
        "    return c * 9/5 + 32\n",
        "\n",
        "# Malos nombres (no los ejecutes así en proyectos reales)\n",
        "def x(a):\n",
        "    return a * a\n",
        "\n",
        "print(\"Área de un círculo de r=2:\", calcular_area_circulo(2))\n",
        "print(\"32°C en °F:\", convertir_celsius_a_fahrenheit(32))\n"
      ]
    },
    {
      "cell_type": "markdown",
      "id": "8ebac514",
      "metadata": {
        "id": "8ebac514"
      },
      "source": [
        "\n",
        "## 4) Parámetros vs argumentos + tipos de argumentos\n",
        "- **Parámetros**: variables que se **definen** en la función.\n",
        "- **Argumentos**: valores que **entregas** al **llamar** la función.\n",
        "\n",
        "### Tipos de argumentos\n",
        "1. **Posicionales**: el orden importa.\n",
        "2. **Nombrados (keywords)**: indicas el nombre al llamar.\n",
        "3. **Por defecto**: tienen un valor predefinido si no lo pasas.\n",
        "4. **Variables**: `*args` (tupla de posicionales extra) y `**kwargs` (diccionario de nombrados extra).\n",
        "5. **Solo posicionales / solo nombrados (opcional)**: usando `/` y `*` en la firma (avanzado, pero útil).\n"
      ]
    },
    {
      "cell_type": "code",
      "execution_count": null,
      "id": "234a4373",
      "metadata": {
        "colab": {
          "base_uri": "https://localhost:8080/"
        },
        "id": "234a4373",
        "outputId": "803b192b-87c4-437a-e5e2-c1bb66df107a"
      },
      "outputs": [
        {
          "output_type": "stream",
          "name": "stdout",
          "text": [
            "Me llamo Ana y tengo 25 años.\n",
            "Me llamo Luis y tengo 30 años.\n",
            "Hola amiga dias\n",
            "Hola María dias\n",
            "Hola amiga dias\n",
            "a: 1\n",
            "args: (2, 3, 4)\n",
            "kwargs: {'modo': 'rápido', 'verbose': True}\n",
            "6\n"
          ]
        }
      ],
      "source": [
        "\n",
        "def presentar(nombre, edad):\n",
        "    return f\"Me llamo {nombre} y tengo {edad} años.\"\n",
        "\n",
        "# Posicionales\n",
        "print(presentar(\"Ana\", 25))\n",
        "\n",
        "# Nombrados (el orden ya no importa)\n",
        "print(presentar(edad=30, nombre=\"Luis\"))\n",
        "\n",
        "# Valores por defecto\n",
        "def saludar(nombre=\"amiga\", apellido=\"dias\"):\n",
        "    return f\"Hola {nombre} {apellido}\"\n",
        "\n",
        "print(saludar())\n",
        "print(saludar(\"María\"))\n",
        "print(saludar(apellido=\"dias\"))\n",
        "\n",
        "# *args y **kwargs\n",
        "def demo_args_kwargs(a, *args, **kwargs):\n",
        "    print(\"a:\", a)\n",
        "    print(\"args:\", args)\n",
        "    print(\"kwargs:\", kwargs)\n",
        "\n",
        "demo_args_kwargs(1, 2, 3, 4, modo=\"rápido\", verbose=True)\n",
        "\n",
        "# parámetros posicionales y nombrados explícitos\n",
        "def mezclar(a, b, /, c, d=0, *, modo=\"suma\"):\n",
        "    \"\"\"'a' y 'b' deben ir posicionales; 'modo' debe ir nombrado.\"\"\"\n",
        "    if modo == \"suma\":\n",
        "        return a + b + c + d\n",
        "    elif modo == \"producto\":\n",
        "        return a * b * c * (d if d else 1)\n",
        "    else:\n",
        "        raise ValueError(\"Modo desconocido\")\n",
        "\n",
        "print(mezclar(1, 2, 3, modo=\"suma\"))\n"
      ]
    },
    {
      "cell_type": "markdown",
      "id": "69153c85",
      "metadata": {
        "id": "69153c85"
      },
      "source": [
        "\n",
        "## 5) Tipos de funciones por comportamiento: **puras** vs **impuras**\n",
        "- **Puras**: mismo **input** → mismo **output**, **sin efectos secundarios** (no imprimen, no cambian cosas fuera).\n",
        "- **Impuras**: tienen **efectos secundarios** (imprimen, leen/escriben archivos, modifican variables externas).\n",
        "\n",
        "### Mutabilidad\n",
        "Al pasar estructuras **mutables** (listas, diccionarios), la función puede **modificarlas**. A veces es deseado; otras veces no.\n"
      ]
    },
    {
      "cell_type": "code",
      "execution_count": null,
      "id": "28fe216c",
      "metadata": {
        "colab": {
          "base_uri": "https://localhost:8080/"
        },
        "id": "28fe216c",
        "outputId": "7c920084-58a6-40ce-ac2c-e35de2077091"
      },
      "outputs": [
        {
          "output_type": "stream",
          "name": "stdout",
          "text": [
            "25\n",
            "El cuadrado es: 25\n",
            "Lista modificada: [1, 2, 3, 4]\n",
            "Original: [1, 2, 3, 4] Nueva: [1, 2, 3, 4, 5]\n"
          ]
        }
      ],
      "source": [
        "\n",
        "# Función pura\n",
        "def cuadrado(n):\n",
        "    return n * n\n",
        "\n",
        "# Función impura (imprime = efecto secundario)\n",
        "def cuadrado_y_muestra(n):\n",
        "    r = n * n\n",
        "    print(\"El cuadrado es:\", r)  # efecto secundario\n",
        "    return r\n",
        "\n",
        "print(cuadrado(5))\n",
        "_ = cuadrado_y_muestra(5)\n",
        "\n",
        "# Mutabilidad: modificar una lista dentro de una función\n",
        "def agregar_item(lista, item):\n",
        "    lista.append(item)  # modifica la lista original\n",
        "\n",
        "mi_lista = [1, 2, 3]\n",
        "agregar_item(mi_lista, 4)\n",
        "print(\"Lista modificada:\", mi_lista)\n",
        "\n",
        "# Evitar efectos no deseados: trabajar con una copia\n",
        "def agregar_sin_tocar(original, item):\n",
        "    copia = original.copy()\n",
        "    copia.append(item)\n",
        "    return copia\n",
        "\n",
        "nueva = agregar_sin_tocar(mi_lista, 5)\n",
        "print(\"Original:\", mi_lista, \"Nueva:\", nueva)\n"
      ]
    },
    {
      "cell_type": "markdown",
      "id": "577a1d12",
      "metadata": {
        "id": "577a1d12"
      },
      "source": [
        "\n",
        "## 6) Scope y Namespaces (regla **LEGB**)\n",
        "**LEGB** describe dónde busca Python los nombres/variables:\n",
        "- **L**ocal: dentro de la función actual.\n",
        "- **E**nclosing: funciones que contienen a la actual (anidadas).\n",
        "- **G**lobal: variables del módulo/archivo.\n",
        "- **B**uilt-in: nombres integrados (como `len`, `print`).\n",
        "\n",
        "### `global` y `nonlocal`\n",
        "- `global` permite **asignar** a una variable global dentro de una función (desaconsejado salvo casos puntuales).\n",
        "- `nonlocal` permite asignar a una variable de un **scope externo** no global (útil en funciones anidadas).\n"
      ]
    },
    {
      "cell_type": "code",
      "execution_count": null,
      "id": "be8ca112",
      "metadata": {
        "colab": {
          "base_uri": "https://localhost:8080/"
        },
        "id": "be8ca112",
        "outputId": "5cb187cf-68aa-4132-f3b6-a8e11f0f44d5"
      },
      "outputs": [
        {
          "output_type": "stream",
          "name": "stdout",
          "text": [
            "Dentro (local): 5\n",
            "Fuera (global): 10\n",
            "1\n",
            "2\n",
            "1 2 3\n"
          ]
        }
      ],
      "source": [
        "\n",
        "x = 10  # global\n",
        "\n",
        "def ejemplo_local():\n",
        "    x = 5  # local\n",
        "    print(\"Dentro (local):\", x)\n",
        "\n",
        "ejemplo_local()\n",
        "print(\"Fuera (global):\", x)\n",
        "\n",
        "# Uso de global (evítalo si puedes)\n",
        "contador = 0\n",
        "def incrementar_global():\n",
        "    global contador\n",
        "    contador += 1\n",
        "    return contador\n",
        "\n",
        "print(incrementar_global())\n",
        "print(incrementar_global())\n",
        "\n",
        "# Uso de nonlocal en una clausura\n",
        "def creador_contador():\n",
        "    c = 0\n",
        "    def siguiente():\n",
        "        nonlocal c\n",
        "        c += 1\n",
        "        return c\n",
        "    return siguiente\n",
        "\n",
        "contar = creador_contador()\n",
        "print(contar(), contar(), contar())\n"
      ]
    },
    {
      "cell_type": "markdown",
      "id": "bb2b8852",
      "metadata": {
        "id": "bb2b8852"
      },
      "source": [
        "\n",
        "## 7) Funciones locales (nested) y **closures**\n",
        "Una función puede **definirse dentro de otra**. Si la interna **recuerda** valores del entorno donde fue creada, tenemos una **closure**.\n",
        "\n",
        "\n"
      ]
    },
    {
      "cell_type": "code",
      "execution_count": null,
      "id": "3a9be186",
      "metadata": {
        "id": "3a9be186"
      },
      "outputs": [],
      "source": [
        "\n",
        "def crear_sumador(n):\n",
        "    \"\"\"Devuelve una función que suma 'n' al número dado.\"\"\"\n",
        "    def sumar(x):\n",
        "        return x + n\n",
        "    return sumar  # 'sumar' recuerda n (closure)\n",
        "\n",
        "sumar_10 = crear_sumador(10)\n",
        "sumar_3 = crear_sumador(3)\n",
        "\n",
        "print(sumar_10(5))  # 15\n",
        "print(sumar_3(5))   # 8\n"
      ]
    },
    {
      "cell_type": "markdown",
      "id": "f2fef10c",
      "metadata": {
        "id": "f2fef10c"
      },
      "source": [
        "\n",
        "## 8) Retornar múltiples valores y **desempaquetado**\n",
        "Una función puede retornar **varios valores** separándolos por comas .\n"
      ]
    },
    {
      "cell_type": "code",
      "execution_count": null,
      "id": "1bb5ca8c",
      "metadata": {
        "id": "1bb5ca8c"
      },
      "outputs": [],
      "source": [
        "\n",
        "def dividir_y_residuo(a, b):\n",
        "    cociente = a // b\n",
        "    residuo = a % b\n",
        "    return cociente, residuo  # tupla\n",
        "\n",
        "c, r = dividir_y_residuo(10, 3)\n",
        "print(\"Cociente:\", c, \"| Residuo:\", r)\n",
        "\n",
        "# Puedes ignorar lo que no te sirve con '_'\n",
        "c, _ = dividir_y_residuo(20, 6)\n",
        "print(\"Solo cociente:\", c)\n",
        "\n",
        "# Alternativa legible: usar dataclasses (opcional)\n",
        "from dataclasses import dataclass\n",
        "@dataclass\n",
        "class Division:\n",
        "    cociente: int\n",
        "    residuo: int\n",
        "\n",
        "def dividir_dataclass(a, b) -> Division:\n",
        "    return Division(a // b, a % b)\n",
        "\n",
        "resultado = dividir_dataclass(25, 4)\n",
        "print(resultado)\n"
      ]
    },
    {
      "cell_type": "markdown",
      "id": "d16cc0c5",
      "metadata": {
        "id": "d16cc0c5"
      },
      "source": [
        "\n",
        "## 9) Funciones **lambda** (anónimas)\n",
        "- Útiles para funciones **muy cortas**.\n",
        "- Se escriben en **una sola línea**.\n",
        "- Se usan mucho como argumentos de otras funciones (`sorted`, `map`, `filter`).\n",
        "\n",
        "👉 Regla práctica: si supera una línea o se vuelve compleja, **mejor usar `def`** con un nombre claro.\n"
      ]
    },
    {
      "cell_type": "code",
      "execution_count": null,
      "id": "b6b0a7c0",
      "metadata": {
        "colab": {
          "base_uri": "https://localhost:8080/"
        },
        "id": "b6b0a7c0",
        "outputId": "1cdabddb-4857-4695-b73c-225fc8c8a155"
      },
      "outputs": [
        {
          "output_type": "stream",
          "name": "stdout",
          "text": [
            "12\n",
            "['ana', 'Bea', 'Luis', 'mario']\n",
            "Cuadrados: [1, 4, 9, 16, 25]\n",
            "Pares: [2, 4]\n"
          ]
        }
      ],
      "source": [
        "\n",
        "doble = lambda x: x * 2\n",
        "print(doble(6))\n",
        "\n",
        "# Usos comunes\n",
        "nombres = [\"ana\", \"Luis\", \"mario\", \"Bea\"]\n",
        "print(sorted(nombres, key=lambda s: s.lower()))  # ordenar ignorando mayúsculas\n",
        "\n",
        "numeros = [1, 2, 3, 4, 5]\n",
        "cuadrados = list(map(lambda x: x*x, numeros))\n",
        "pares = list(filter(lambda x: x % 2 == 0, numeros))\n",
        "print(\"Cuadrados:\", cuadrados)\n",
        "print(\"Pares:\", pares)\n"
      ]
    },
    {
      "cell_type": "markdown",
      "id": "03635253",
      "metadata": {
        "id": "03635253"
      },
      "source": [
        "\n",
        "## 10) Manejo de errores (dentro y fuera de funciones)\n",
        "Los errores (excepciones) **detienen** el programa. Para controlarlos:\n",
        "- `try`: bloque que podría fallar.\n",
        "- `except`: qué hacer si falla.\n",
        "- `else`: se ejecuta **si no** hubo error.\n",
        "- `finally`: se ejecuta **siempre** (útil para cerrar recursos).\n",
        "\n",
        "También puedes **lanzar** errores con `raise` cuando el input es inválido.\n"
      ]
    },
    {
      "cell_type": "code",
      "execution_count": null,
      "id": "bc9b1be2",
      "metadata": {
        "colab": {
          "base_uri": "https://localhost:8080/"
        },
        "id": "bc9b1be2",
        "outputId": "b2655895-6200-4521-8be5-2a0e2776080f"
      },
      "outputs": [
        {
          "output_type": "stream",
          "name": "stdout",
          "text": [
            "5.0\n",
            "Ocurrió un error: b no puede ser 0\n",
            "Fin del intento de división\n"
          ]
        }
      ],
      "source": [
        "\n",
        "def dividir(a, b):\n",
        "    \"\"\"Divide a entre b. Lanza ValueError si b = 0.\"\"\"\n",
        "    if b == 0:\n",
        "        raise ValueError(\"b no puede ser 0\")\n",
        "    return a / b\n",
        "\n",
        "try:\n",
        "    print(dividir(10, 2))\n",
        "    print(dividir(10, 0))\n",
        "except ValueError as e:\n",
        "    print(\"Ocurrió un error:\", e)\n",
        "else:\n",
        "    print(\"Todo salió bien\")\n",
        "finally:\n",
        "    print(\"Fin del intento de división\")\n"
      ]
    },
    {
      "cell_type": "markdown",
      "id": "2a54b66b",
      "metadata": {
        "id": "2a54b66b"
      },
      "source": [
        "\n",
        "## 11) Peligro común: **parámetros por defecto mutables**\n",
        "Nunca uses listas o diccionarios como valores por defecto, porque **se comparten entre llamadas**.\n"
      ]
    },
    {
      "cell_type": "code",
      "execution_count": null,
      "id": "f9d9a862",
      "metadata": {
        "id": "f9d9a862"
      },
      "outputs": [],
      "source": [
        "\n",
        "def agregar(elemento, contenedor=[]):\n",
        "    contenedor.append(elemento)\n",
        "    return contenedor\n",
        "\n",
        "print(agregar(1))\n",
        "print(agregar(2))  # ¡sorpresa! sigue la lista anterior\n",
        "\n",
        "# Solución: usa None y crea una nueva lista adentro\n",
        "def agregar_seguro(elemento, contenedor=None):\n",
        "    if contenedor is None:\n",
        "        contenedor = []\n",
        "    contenedor.append(elemento)\n",
        "    return contenedor\n",
        "\n",
        "print(agregar_seguro(1))\n",
        "print(agregar_seguro(2))\n"
      ]
    },
    {
      "cell_type": "markdown",
      "id": "431c9a86",
      "metadata": {
        "id": "431c9a86"
      },
      "source": [
        "\n",
        "## 12) Docstrings y anotaciones de tipo (typing)\n",
        "- **Docstring**: describe qué hace la función, sus parámetros y el retorno.\n",
        "- **Anotaciones de tipo**: ayudan a leer y a detectar errores temprano (no obligan en tiempo de ejecución).\n",
        "\n",
        "> Consejo: escribe docstrings **cortas pero claras**. Si hay errores posibles, documenta qué **excepciones** puede lanzar la función.\n"
      ]
    },
    {
      "cell_type": "code",
      "execution_count": null,
      "id": "097939ac",
      "metadata": {
        "id": "097939ac"
      },
      "outputs": [],
      "source": [
        "\n",
        "from typing import List\n",
        "\n",
        "def promedio(valores: List[float]) -> float:\n",
        "    \"\"\"\n",
        "    Calcula el promedio de una lista de números.\n",
        "\n",
        "    Parámetros:\n",
        "      valores (list[float]): números de entrada (no vacía)\n",
        "    Retorna:\n",
        "      float: promedio aritmético\n",
        "\n",
        "    Lanza:\n",
        "      ValueError: si la lista está vacía.\n",
        "    \"\"\"\n",
        "    if not valores:\n",
        "        raise ValueError(\"La lista no puede estar vacía\")\n",
        "    return sum(valores) / len(valores)\n",
        "\n",
        "print(promedio([10, 8, 9.5]))\n"
      ]
    },
    {
      "cell_type": "markdown",
      "id": "943f0db1",
      "metadata": {
        "id": "943f0db1"
      },
      "source": [
        "\n",
        "## 13) Clean Code para funciones — **Checklist práctica**\n",
        "-  **Una sola responsabilidad** (hace una cosa y la hace bien).\n",
        "-  Nombres **claros** y **verbales** (ej. `calcular_total`).\n",
        "-  Tamaño corto (idealmente ≤ 20–30 líneas).\n",
        "-  Sin dependencia de variables globales (o mínima).\n",
        "-  Evita efectos secundarios inesperados (documenta si los hay).\n",
        "-  Retornos **explícitos** y tipos consistentes.\n",
        "-  Usa **docstrings** y tipos cuando aporten claridad.\n",
        "-  Maneja errores de forma **predecible** (lanza excepciones bien nombradas).\n",
        "-  Escribe **pruebas** o `assert`s para validar.\n",
        "-  **No repitas**: extrae lógica duplicada en funciones auxiliares.\n"
      ]
    }
  ],
  "metadata": {
    "colab": {
      "provenance": []
    },
    "language_info": {
      "name": "python"
    },
    "kernelspec": {
      "name": "python3",
      "display_name": "Python 3"
    }
  },
  "nbformat": 4,
  "nbformat_minor": 5
}