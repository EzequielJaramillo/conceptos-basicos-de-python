{
  "nbformat": 4,
  "nbformat_minor": 0,
  "metadata": {
    "colab": {
      "provenance": []
    },
    "kernelspec": {
      "name": "python3",
      "display_name": "Python 3"
    },
    "language_info": {
      "name": "python"
    }
  },
  "cells": [
    {
      "cell_type": "markdown",
      "source": [
        "# Secuencias\n",
        "En Python las secuencias de tatos juegan un papel importante ya que permiten almacenar y manipular colecciones de elementos, esto hacer que sea mas fácil trabajar con grupos de datos ya sean homogéneos o heterogéneos, estas permiten organizar, acceder, y modificar datos facilitando la manipulación de gran cantidad de información de manera estructurada.\n",
        "\n",
        "##1. Listas\n",
        "caracteristicas:\n",
        "* datos heterogeneos: las listas pueden contener elementos de diferentes  tipos, como enteros, cadenas, booleanos, e incluso otras listas.\n",
        "* anidadas: las listas pudenden contener otras listas dentro de ellas.\n",
        "* mutables: las listas son mutables lo que significa que pueden cambiar su elementos despues de hbaerlas creado.\n",
        "\n",
        "funciones CRUD:\n",
        "\n",
        "* crear: las las listas se pueden crear usando corchetes '[ ]'. Ejemplo:"
      ],
      "metadata": {
        "id": "ZosAUZfualJ1"
      }
    },
    {
      "cell_type": "code",
      "source": [
        "lista_muestra = [2,3,'f',4,2,5,'f','g']"
      ],
      "metadata": {
        "id": "AZVJtP4NwWa8"
      },
      "execution_count": null,
      "outputs": []
    },
    {
      "cell_type": "markdown",
      "source": [
        "* Leer: se puede acceder a los elementos usando índices. Ejemplo:"
      ],
      "metadata": {
        "id": "32cpEJAxwrwl"
      }
    },
    {
      "cell_type": "code",
      "source": [
        "print(lista_muestra[0])"
      ],
      "metadata": {
        "colab": {
          "base_uri": "https://localhost:8080/"
        },
        "id": "XuIdPjlzw4ek",
        "outputId": "36c739b2-1525-4ad7-be88-546c70eb677b"
      },
      "execution_count": null,
      "outputs": [
        {
          "output_type": "stream",
          "name": "stdout",
          "text": [
            "2\n"
          ]
        }
      ]
    },
    {
      "cell_type": "markdown",
      "source": [
        "* Actualizar: Se puede modificar un elemento asignando un nuevo valor al índice. Ejemplo:"
      ],
      "metadata": {
        "id": "uzWDpc2fw-38"
      }
    },
    {
      "cell_type": "code",
      "source": [
        "lista_muestra[1]='a'\n",
        "print(lista_muestra)"
      ],
      "metadata": {
        "colab": {
          "base_uri": "https://localhost:8080/"
        },
        "id": "CIpNJ3CWxMkU",
        "outputId": "ebae7609-49e1-4834-c7d7-9f2801e06663"
      },
      "execution_count": null,
      "outputs": [
        {
          "output_type": "stream",
          "name": "stdout",
          "text": [
            "[2, 'a', 'f', 4, 2, 5, 'f', 'g']\n"
          ]
        }
      ]
    },
    {
      "cell_type": "markdown",
      "source": [
        "* Eliminar: Se puede eliminar elementos usando del, pop() o remove(). Ejemplo:"
      ],
      "metadata": {
        "id": "tGuIGJdgxbuT"
      }
    },
    {
      "cell_type": "code",
      "source": [
        "del lista_muestra[0]\n",
        "print(lista_muestra)"
      ],
      "metadata": {
        "colab": {
          "base_uri": "https://localhost:8080/"
        },
        "id": "EDVwK4Tp0vrY",
        "outputId": "ff5f0316-4abd-4cb7-a23d-fbfbabb51bb7"
      },
      "execution_count": null,
      "outputs": [
        {
          "output_type": "stream",
          "name": "stdout",
          "text": [
            "['a', 'f', 4, 2, 5, 'f', 'g']\n"
          ]
        }
      ]
    },
    {
      "cell_type": "code",
      "source": [
        "lista_muestra.pop(2)\n",
        "print(lista_muestra)"
      ],
      "metadata": {
        "colab": {
          "base_uri": "https://localhost:8080/"
        },
        "id": "vTIItvtS03Dv",
        "outputId": "c1cd9469-254a-4b2c-a853-26f88b08f4ce"
      },
      "execution_count": null,
      "outputs": [
        {
          "output_type": "stream",
          "name": "stdout",
          "text": [
            "['a', 'f', 2, 5, 'f', 'g']\n"
          ]
        }
      ]
    },
    {
      "cell_type": "markdown",
      "source": [
        "Métodos de Slicing, Operaciones, Iteración e Índices:\n",
        "\n",
        "* Slicing: nos ayuda a trabajar con un segmento detrminando de una listas marcando los limites con sus indices y teniendo en cuenta que el primer indice siempre va ser [0]. Ejemplo:"
      ],
      "metadata": {
        "id": "WRR8BGB_1Ibf"
      }
    },
    {
      "cell_type": "code",
      "source": [
        "print(lista_muestra[1:4])"
      ],
      "metadata": {
        "colab": {
          "base_uri": "https://localhost:8080/"
        },
        "id": "ZYliAmo72hyY",
        "outputId": "e0514838-6251-496d-e81e-ba0c940ecc29"
      },
      "execution_count": null,
      "outputs": [
        {
          "output_type": "stream",
          "name": "stdout",
          "text": [
            "['f', 2, 5]\n"
          ]
        }
      ]
    },
    {
      "cell_type": "markdown",
      "source": [
        "* Operaciones: Permite concatenar listas con `+` y multiplicarlas con `*`. Ejemplo:  "
      ],
      "metadata": {
        "id": "Lry-cs952zgY"
      }
    },
    {
      "cell_type": "code",
      "source": [
        "v=[1,2,3]\n",
        "w=[4,5,6]\n",
        "x=v+w\n",
        "print(x)"
      ],
      "metadata": {
        "colab": {
          "base_uri": "https://localhost:8080/"
        },
        "id": "OCt205d93F50",
        "outputId": "9c6436c0-3365-4e85-eef8-498a95a32649"
      },
      "execution_count": null,
      "outputs": [
        {
          "output_type": "stream",
          "name": "stdout",
          "text": [
            "[1, 2, 3, 4, 5, 6]\n"
          ]
        }
      ]
    },
    {
      "cell_type": "code",
      "source": [
        "v=[1,2,3]\n",
        "x=v*3\n",
        "print(x)"
      ],
      "metadata": {
        "colab": {
          "base_uri": "https://localhost:8080/"
        },
        "id": "Suu-5U0R3OnE",
        "outputId": "6474786f-21ad-4e1e-eb4e-dcfa0fbcaca4"
      },
      "execution_count": null,
      "outputs": [
        {
          "output_type": "stream",
          "name": "stdout",
          "text": [
            "[1, 2, 3, 1, 2, 3, 1, 2, 3]\n"
          ]
        }
      ]
    },
    {
      "cell_type": "markdown",
      "source": [
        "* Iteración: Se puede recorrer una lista usando un bucle for. Ejemplo:"
      ],
      "metadata": {
        "id": "apt_8XJe3bsC"
      }
    },
    {
      "cell_type": "code",
      "source": [
        "for elemento in lista_muestra:\n",
        "    print(elemento)"
      ],
      "metadata": {
        "colab": {
          "base_uri": "https://localhost:8080/"
        },
        "id": "JinZrYNu4k0k",
        "outputId": "9f738a40-9b0d-4223-c98a-b358a5fa42ca"
      },
      "execution_count": null,
      "outputs": [
        {
          "output_type": "stream",
          "name": "stdout",
          "text": [
            "a\n",
            "f\n",
            "2\n",
            "5\n",
            "f\n",
            "g\n"
          ]
        }
      ]
    },
    {
      "cell_type": "markdown",
      "source": [
        "* Índices: Los índices en listas empiezan en 0. Los índices negativos permiten acceder a los elementos desde el final. Ejemplo:"
      ],
      "metadata": {
        "id": "N_RowEpn4yK9"
      }
    },
    {
      "cell_type": "code",
      "source": [
        "print(lista_muestra[-1])"
      ],
      "metadata": {
        "colab": {
          "base_uri": "https://localhost:8080/"
        },
        "id": "gPexsQfc5Ebs",
        "outputId": "39ebf2aa-44f0-45c4-8557-940d92cdce40"
      },
      "execution_count": null,
      "outputs": [
        {
          "output_type": "stream",
          "name": "stdout",
          "text": [
            "g\n"
          ]
        }
      ]
    },
    {
      "cell_type": "markdown",
      "source": [
        "## TUPLAS\n",
        "\n",
        "Características:\n",
        "\n",
        "* Datos Heterogéneos: Las tuplas, al igual que las listas, pueden contener elementos de diferentes tipos.\n",
        "\n",
        "* Anidamiento: Las tuplas pueden contener otras tuplas o listas.\n",
        "\n",
        "* Inmutabilidad: Las tuplas son inmutables, lo que significa que no puedes cambiar sus elementos una vez que han sido creadas.\n",
        "\n",
        "funciones CRUD:\n",
        "\n",
        "* Crear: se pueden crear tuplas usando paréntesis (). Ejemplo:\n",
        "\n"
      ],
      "metadata": {
        "id": "65_ThZSK5R3N"
      }
    },
    {
      "cell_type": "code",
      "source": [
        "tupla_muestra = (2,3,'f',4,2,5,'f','g')\n",
        "print(tupla_muestra)"
      ],
      "metadata": {
        "colab": {
          "base_uri": "https://localhost:8080/"
        },
        "id": "14ljMVt3QSR9",
        "outputId": "b992a382-a410-4365-c10d-2e4f3eebe4ad"
      },
      "execution_count": null,
      "outputs": [
        {
          "output_type": "stream",
          "name": "stdout",
          "text": [
            "(2, 3, 'f', 4, 2, 5, 'f', 'g')\n"
          ]
        }
      ]
    },
    {
      "cell_type": "markdown",
      "source": [
        "* Leer: Se puede acceder a los elementos usando índices. Ejemplo:"
      ],
      "metadata": {
        "id": "ZHFTQeIAQi9e"
      }
    },
    {
      "cell_type": "code",
      "source": [
        "tupla_muestra[0]"
      ],
      "metadata": {
        "colab": {
          "base_uri": "https://localhost:8080/"
        },
        "id": "_Pukx6EaQti0",
        "outputId": "7910b51d-e886-42ea-c76c-8b1ba4db166e"
      },
      "execution_count": null,
      "outputs": [
        {
          "output_type": "execute_result",
          "data": {
            "text/plain": [
              "2"
            ]
          },
          "metadata": {},
          "execution_count": 11
        }
      ]
    },
    {
      "cell_type": "markdown",
      "source": [
        "* Actualizar: No es posible actualizar los elementos de una tupla debido estas son inmutables lo que significa que no se pueden cambiar.\n",
        "\n",
        "* Eliminar: No se pueden eliminar elementos individuales de una tupla, pero puedes eliminar la tupla completa usando `del mi_tupla`. Ejemplo:"
      ],
      "metadata": {
        "id": "8hBxKrP6Q2Ot"
      }
    },
    {
      "cell_type": "code",
      "source": [
        "del tupla_muestra"
      ],
      "metadata": {
        "id": "4S5sjxDXR5ro"
      },
      "execution_count": null,
      "outputs": []
    },
    {
      "cell_type": "markdown",
      "source": [
        "Métodos de Slicing, Operaciones, Iteración e Índices\n",
        "\n",
        "* Slicing: Funciona de la misma manera que en las listas. Ejemplo:"
      ],
      "metadata": {
        "id": "VXlK6kCWR6tY"
      }
    },
    {
      "cell_type": "code",
      "source": [
        "tupla_muestra[1:4]"
      ],
      "metadata": {
        "colab": {
          "base_uri": "https://localhost:8080/"
        },
        "id": "YSMQpVbzS0EM",
        "outputId": "a14aeca3-d6ac-4799-8deb-3dfe35548583"
      },
      "execution_count": null,
      "outputs": [
        {
          "output_type": "execute_result",
          "data": {
            "text/plain": [
              "(3, 'f', 4)"
            ]
          },
          "metadata": {},
          "execution_count": 12
        }
      ]
    },
    {
      "cell_type": "markdown",
      "source": [
        "* Operaciones: se pueden concatenar tuplas con `+` y multiplicarlas con `*`. Ejemplo:"
      ],
      "metadata": {
        "id": "ywt08uwMT3Ed"
      }
    },
    {
      "cell_type": "code",
      "source": [
        "#suma de tuplas\n",
        "a= (1,2)+(3,4)\n",
        "print(a)\n",
        "\n",
        "#multiplicacion de tuplas\n",
        "b=(1,2)*3\n",
        "print(b)"
      ],
      "metadata": {
        "colab": {
          "base_uri": "https://localhost:8080/"
        },
        "id": "DO9wJtegTWNn",
        "outputId": "0d9e6773-7bf0-48d6-e1b2-a1a7ec4718a9"
      },
      "execution_count": null,
      "outputs": [
        {
          "output_type": "stream",
          "name": "stdout",
          "text": [
            "(1, 2, 3, 4)\n",
            "(1, 2, 1, 2, 1, 2)\n"
          ]
        }
      ]
    },
    {
      "cell_type": "markdown",
      "source": [
        "* Iteración: Las tuplas pueden ser iteradas con un bucle for. Ejemplo:"
      ],
      "metadata": {
        "id": "jYHtnklOUJ-z"
      }
    },
    {
      "cell_type": "code",
      "source": [
        "for elemento in tupla_muestra:print(elemento)"
      ],
      "metadata": {
        "colab": {
          "base_uri": "https://localhost:8080/"
        },
        "id": "5I7ZM8H-UOyH",
        "outputId": "303adf1b-e90d-43f3-bf33-85d0c16ca542"
      },
      "execution_count": null,
      "outputs": [
        {
          "output_type": "stream",
          "name": "stdout",
          "text": [
            "2\n",
            "3\n",
            "f\n",
            "4\n",
            "2\n",
            "5\n",
            "f\n",
            "g\n"
          ]
        }
      ]
    },
    {
      "cell_type": "markdown",
      "source": [
        "* Índices: Los índices funcionan igual que en las listas. Ejemplo"
      ],
      "metadata": {
        "id": "x4JlOUV6Upgw"
      }
    },
    {
      "cell_type": "code",
      "source": [
        "tupla_muestra[-1]"
      ],
      "metadata": {
        "colab": {
          "base_uri": "https://localhost:8080/",
          "height": 35
        },
        "id": "WBdFf02LUwxZ",
        "outputId": "177fdd32-7a92-4bd0-c33f-d7ba79f07647"
      },
      "execution_count": null,
      "outputs": [
        {
          "output_type": "execute_result",
          "data": {
            "text/plain": [
              "'g'"
            ],
            "application/vnd.google.colaboratory.intrinsic+json": {
              "type": "string"
            }
          },
          "metadata": {},
          "execution_count": 16
        }
      ]
    },
    {
      "cell_type": "markdown",
      "source": [
        "## 3. Range\n",
        "\n",
        "Características:\n",
        "\n",
        "* Homogéneos: El objeto range genera una secuencia de números enteros.\n",
        "\n",
        "* No Anidable: range no admite la inclusión de otros range o tipos de datos en su interior.\n",
        "\n",
        "* Inmutabilidad: Los objetos range son inmutables.\n",
        "\n",
        "Funciones CRUD\n",
        "\n",
        "* Crear: Se puede crear un range especificando el inicio, fin, y opcionalmente el paso. Ejemplo:"
      ],
      "metadata": {
        "id": "c-RpQOdTVBpv"
      }
    },
    {
      "cell_type": "code",
      "source": [
        "prueba_range = range(1, 10, 2)\n",
        "print(prueba_range)"
      ],
      "metadata": {
        "colab": {
          "base_uri": "https://localhost:8080/"
        },
        "id": "-5Y1Dq1aXFhA",
        "outputId": "46dafb8d-f936-4247-b7d7-4113a6342b7d"
      },
      "execution_count": null,
      "outputs": [
        {
          "output_type": "stream",
          "name": "stdout",
          "text": [
            "range(1, 10, 2)\n"
          ]
        }
      ]
    },
    {
      "cell_type": "markdown",
      "source": [
        "* Leer: Se puede acceder a los elementos convirtiéndolos a una lista o iterando sobre ellos. Ejemplo:"
      ],
      "metadata": {
        "id": "NJR1TNGeXls0"
      }
    },
    {
      "cell_type": "code",
      "source": [
        "list(prueba_range)"
      ],
      "metadata": {
        "colab": {
          "base_uri": "https://localhost:8080/"
        },
        "id": "hVj-WGf9XvNt",
        "outputId": "ccc209d3-5a9f-41f3-cb01-fbe0cd3a6582"
      },
      "execution_count": null,
      "outputs": [
        {
          "output_type": "execute_result",
          "data": {
            "text/plain": [
              "[1, 3, 5, 7, 9]"
            ]
          },
          "metadata": {},
          "execution_count": 18
        }
      ]
    },
    {
      "cell_type": "markdown",
      "source": [
        "* Iteración: Las tuplas pueden ser iteradas con un bucle for. Ejemplo:"
      ],
      "metadata": {
        "id": "lyCt-lVfX7po"
      }
    },
    {
      "cell_type": "code",
      "source": [
        "for elemento in prueba_range: print(elemento)"
      ],
      "metadata": {
        "colab": {
          "base_uri": "https://localhost:8080/"
        },
        "id": "LzNZceQXX-QO",
        "outputId": "861497c5-cbb8-4873-a4cd-ee7dc6b60dbd"
      },
      "execution_count": null,
      "outputs": [
        {
          "output_type": "stream",
          "name": "stdout",
          "text": [
            "1\n",
            "3\n",
            "5\n",
            "7\n",
            "9\n"
          ]
        }
      ]
    },
    {
      "cell_type": "markdown",
      "source": [
        "* Índices: Se puede acceder a elementos específicos después de convertirlos a lista. Ejemplo:"
      ],
      "metadata": {
        "id": "27mGNsH_YEff"
      }
    },
    {
      "cell_type": "code",
      "source": [
        "list(prueba_range)[0]"
      ],
      "metadata": {
        "colab": {
          "base_uri": "https://localhost:8080/"
        },
        "id": "YtR4Hkd6YVBn",
        "outputId": "9ec8f5b0-71b1-4669-9911-06dfebc9230e"
      },
      "execution_count": null,
      "outputs": [
        {
          "output_type": "execute_result",
          "data": {
            "text/plain": [
              "1"
            ]
          },
          "metadata": {},
          "execution_count": 20
        }
      ]
    },
    {
      "cell_type": "markdown",
      "source": [
        "## 4. Strings\n",
        "\n",
        "Características:\n",
        "\n",
        "* Homogéneos: Los strings son secuencias de caracteres.\n",
        "\n",
        "* Anidamiento: Los strings no pueden contener otros strings o tipos de datos en su interior.\n",
        "\n",
        "* Inmutabilidad: Los strings son inmutables, no se pueden modificar una vez creados.\n",
        "\n",
        "Funciones CRUD:\n",
        "\n",
        "* Crear: Se puede crear un string usando comillas simples o dobles. Ejemplo:"
      ],
      "metadata": {
        "id": "rms5EBUAfB03"
      }
    },
    {
      "cell_type": "code",
      "source": [
        "string_muestra = 'Hello World'\n",
        "print(string_muestra)"
      ],
      "metadata": {
        "colab": {
          "base_uri": "https://localhost:8080/"
        },
        "id": "TYbusbl-fnIG",
        "outputId": "4765a425-81be-4de6-a2e6-5b705af6d73d"
      },
      "execution_count": null,
      "outputs": [
        {
          "output_type": "stream",
          "name": "stdout",
          "text": [
            "Hello World\n"
          ]
        }
      ]
    },
    {
      "cell_type": "markdown",
      "source": [
        "* Leer: Se puede acceder a los caracteres usando índices. Ejemplo:"
      ],
      "metadata": {
        "id": "NjPAD_qsf2QB"
      }
    },
    {
      "cell_type": "code",
      "source": [
        "string_muestra[0]"
      ],
      "metadata": {
        "colab": {
          "base_uri": "https://localhost:8080/",
          "height": 35
        },
        "id": "MqZhD3gvf9ee",
        "outputId": "d3b295de-c78e-42ed-d126-6496fb70eab5"
      },
      "execution_count": null,
      "outputs": [
        {
          "output_type": "execute_result",
          "data": {
            "text/plain": [
              "'H'"
            ],
            "application/vnd.google.colaboratory.intrinsic+json": {
              "type": "string"
            }
          },
          "metadata": {},
          "execution_count": 22
        }
      ]
    },
    {
      "cell_type": "markdown",
      "source": [
        "* Actualizar: No se puede modificar un string, pero puedes crear uno nuevo combinando otros strings. Ejemplo:"
      ],
      "metadata": {
        "id": "vcJQnihLgG8q"
      }
    },
    {
      "cell_type": "code",
      "source": [
        "nuesvo_string = string_muestra + '!'\n",
        "print(nuesvo_string)"
      ],
      "metadata": {
        "colab": {
          "base_uri": "https://localhost:8080/"
        },
        "id": "tG7hZomhgTCR",
        "outputId": "04cff7c1-29d9-4ba6-ca68-1e30c0326ae4"
      },
      "execution_count": null,
      "outputs": [
        {
          "output_type": "stream",
          "name": "stdout",
          "text": [
            "Hello World!\n"
          ]
        }
      ]
    },
    {
      "cell_type": "markdown",
      "source": [
        "* Eliminar: No se pueden eliminar caracteres individuales, pero puedes eliminar el string completo con `del`."
      ],
      "metadata": {
        "id": "TAEggZE9gaX_"
      }
    },
    {
      "cell_type": "markdown",
      "source": [
        "Métodos de Slicing, Operaciones, Iteración e Índices\n",
        "\n",
        "* Slicing: Permite obtener una subcadena. Ejemplo:"
      ],
      "metadata": {
        "id": "x4DyyBnzglqK"
      }
    },
    {
      "cell_type": "code",
      "source": [
        "string_muestra[0:5]"
      ],
      "metadata": {
        "colab": {
          "base_uri": "https://localhost:8080/",
          "height": 35
        },
        "id": "gkzEKi25guQY",
        "outputId": "9fdf894d-203d-48b1-de02-ede09f5b0e1a"
      },
      "execution_count": null,
      "outputs": [
        {
          "output_type": "execute_result",
          "data": {
            "text/plain": [
              "'Hello'"
            ],
            "application/vnd.google.colaboratory.intrinsic+json": {
              "type": "string"
            }
          },
          "metadata": {},
          "execution_count": 24
        }
      ]
    },
    {
      "cell_type": "markdown",
      "source": [
        "Operaciones: Se pueden concatenar strings con + y repetirlos con *"
      ],
      "metadata": {
        "id": "JxzerB5ag_ce"
      }
    },
    {
      "cell_type": "code",
      "source": [
        "st='Hola'+'Mundo'\n",
        "print(st*3)"
      ],
      "metadata": {
        "colab": {
          "base_uri": "https://localhost:8080/"
        },
        "id": "VbvA_2E-hE_w",
        "outputId": "aa599a97-c013-442e-d057-596eda43fd8a"
      },
      "execution_count": null,
      "outputs": [
        {
          "output_type": "stream",
          "name": "stdout",
          "text": [
            "HolaMundoHolaMundoHolaMundo\n"
          ]
        }
      ]
    },
    {
      "cell_type": "markdown",
      "source": [
        "* Iteración: Se Puede iterar sobre un string carácter por carácter. Ejemplo:"
      ],
      "metadata": {
        "id": "zcnqzSdnhbKR"
      }
    },
    {
      "cell_type": "code",
      "source": [
        "for elemento in string_muestra: print(elemento)"
      ],
      "metadata": {
        "colab": {
          "base_uri": "https://localhost:8080/"
        },
        "id": "NZaqRycDhg7-",
        "outputId": "40843e19-ff74-46af-bf5b-f999fe62ecae"
      },
      "execution_count": null,
      "outputs": [
        {
          "output_type": "stream",
          "name": "stdout",
          "text": [
            "H\n",
            "e\n",
            "l\n",
            "l\n",
            "o\n",
            " \n",
            "W\n",
            "o\n",
            "r\n",
            "l\n",
            "d\n"
          ]
        }
      ]
    },
    {
      "cell_type": "markdown",
      "source": [
        "* Índices: Los índices funcionan igual que en las listas. Ejemplo:"
      ],
      "metadata": {
        "id": "maWSzczJhsSI"
      }
    },
    {
      "cell_type": "code",
      "source": [
        "string_muestra[-1]"
      ],
      "metadata": {
        "colab": {
          "base_uri": "https://localhost:8080/",
          "height": 35
        },
        "id": "xK9Q3iUMh0tw",
        "outputId": "3ef3d063-c6eb-49a5-a0b1-a22632a20248"
      },
      "execution_count": null,
      "outputs": [
        {
          "output_type": "execute_result",
          "data": {
            "text/plain": [
              "'d'"
            ],
            "application/vnd.google.colaboratory.intrinsic+json": {
              "type": "string"
            }
          },
          "metadata": {},
          "execution_count": 27
        }
      ]
    },
    {
      "cell_type": "markdown",
      "source": [
        "## 5. Set\n",
        "Características:\n",
        "\n",
        "* Heterogéneos: Los sets pueden contener elementos de diferentes tipos.\n",
        "\n",
        "* No Anidable: Los sets no pueden contener otros sets, pero pueden contener elementos inmutables como tuplas.\n",
        "\n",
        "* Mutabilidad: Los sets son mutables, pero existe una variante inmutable llamada `frozenset`.\n",
        "\n",
        "Funciones CRUD:\n",
        "\n",
        "Crear: se pueden crear un set usando llaves {} o la función set(). Ejemplo:"
      ],
      "metadata": {
        "id": "8tTIIQ74iPtS"
      }
    },
    {
      "cell_type": "code",
      "source": [
        "set_muestra = {2,3,'f',4,2,5,'f','g'}\n",
        "print(set_muestra)"
      ],
      "metadata": {
        "colab": {
          "base_uri": "https://localhost:8080/"
        },
        "id": "zfXtMPPAj8Pd",
        "outputId": "a39a5602-6b7c-4fbf-9ec6-e75f14782123"
      },
      "execution_count": null,
      "outputs": [
        {
          "output_type": "stream",
          "name": "stdout",
          "text": [
            "{2, 3, 4, 5, 'f', 'g'}\n"
          ]
        }
      ]
    },
    {
      "cell_type": "markdown",
      "source": [
        "Leer: No se puede acceder a elementos específicos por índice, pero se puede verificar la existencia de un elemento. Ejemplo:"
      ],
      "metadata": {
        "id": "5ARCa5-GkElr"
      }
    },
    {
      "cell_type": "code",
      "source": [
        "1 in set_muestra"
      ],
      "metadata": {
        "colab": {
          "base_uri": "https://localhost:8080/"
        },
        "id": "H4_lN21ZkN9x",
        "outputId": "294b2af2-d5b2-40dc-87f6-f4311035a7c3"
      },
      "execution_count": null,
      "outputs": [
        {
          "output_type": "execute_result",
          "data": {
            "text/plain": [
              "False"
            ]
          },
          "metadata": {},
          "execution_count": 29
        }
      ]
    },
    {
      "cell_type": "markdown",
      "source": [
        "* Actualizar: Se pueden agregar elementos usando add() o actualizar con update(). Ejemplo:"
      ],
      "metadata": {
        "id": "KIEjaSpqUjCR"
      }
    },
    {
      "cell_type": "code",
      "source": [
        "set_muestra.add(1)\n",
        "print(set_muestra)"
      ],
      "metadata": {
        "colab": {
          "base_uri": "https://localhost:8080/"
        },
        "id": "6TsbK654U1UO",
        "outputId": "598d370b-a8ba-4c34-b30e-6720ff301dea"
      },
      "execution_count": null,
      "outputs": [
        {
          "output_type": "stream",
          "name": "stdout",
          "text": [
            "{'f', 2, 3, 4, 5, 1, 'g'}\n"
          ]
        }
      ]
    },
    {
      "cell_type": "code",
      "source": [
        "set_muestra.update([1,2,3])\n",
        "print(set_muestra)"
      ],
      "metadata": {
        "colab": {
          "base_uri": "https://localhost:8080/"
        },
        "id": "8cxA5mRGVKuz",
        "outputId": "5c1fb7b2-d563-471d-e58f-6fa4a600827e"
      },
      "execution_count": null,
      "outputs": [
        {
          "output_type": "stream",
          "name": "stdout",
          "text": [
            "{'f', 2, 3, 4, 5, 1, 'g'}\n"
          ]
        }
      ]
    },
    {
      "cell_type": "markdown",
      "source": [
        "* Eliminar: Se puede eliminar elementos usando remove() o discard(). Ejemplo:"
      ],
      "metadata": {
        "id": "OTqPgXlMh8mJ"
      }
    },
    {
      "cell_type": "code",
      "source": [
        "set_muestra.remove('f')\n",
        "print(set_muestra)"
      ],
      "metadata": {
        "colab": {
          "base_uri": "https://localhost:8080/"
        },
        "id": "N0oXD3aiiC8x",
        "outputId": "4f8fc579-fd1b-4ebb-f7c4-c105fdfb8056"
      },
      "execution_count": null,
      "outputs": [
        {
          "output_type": "stream",
          "name": "stdout",
          "text": [
            "{2, 3, 4, 5, 'g'}\n"
          ]
        }
      ]
    },
    {
      "cell_type": "code",
      "source": [
        "set_muestra.discard(2)\n",
        "print(set_muestra)"
      ],
      "metadata": {
        "colab": {
          "base_uri": "https://localhost:8080/"
        },
        "id": "QuE7vv6BiK3Z",
        "outputId": "445c5125-d363-44e0-e5eb-ebc52eb9136b"
      },
      "execution_count": null,
      "outputs": [
        {
          "output_type": "stream",
          "name": "stdout",
          "text": [
            "{3, 4, 5, 'g'}\n"
          ]
        }
      ]
    },
    {
      "cell_type": "markdown",
      "source": [
        "Métodos de Slicing, Operaciones, Iteración e Índices\n",
        "\n",
        "* Slicing: En este caso no aplica ya que los sets no tienen un orden fijo\n",
        "\n",
        "* Operaciones:Los sets soportan operaciones de conjuntos como unión `|`, intersección `&`, diferencia `-`. Ejemplo:"
      ],
      "metadata": {
        "id": "VjliIwXpidRu"
      }
    },
    {
      "cell_type": "code",
      "source": [
        "V= {1,2}|{3,4}\n",
        "print(V)"
      ],
      "metadata": {
        "colab": {
          "base_uri": "https://localhost:8080/"
        },
        "id": "7D3dZk6LjIra",
        "outputId": "326c6b9a-6404-4cb2-f236-b72003c1f206"
      },
      "execution_count": null,
      "outputs": [
        {
          "output_type": "stream",
          "name": "stdout",
          "text": [
            "{1, 2, 3, 4}\n"
          ]
        }
      ]
    },
    {
      "cell_type": "code",
      "source": [
        "v1= {1,2}&{2,3}\n",
        "print(v1)"
      ],
      "metadata": {
        "colab": {
          "base_uri": "https://localhost:8080/"
        },
        "id": "7Q_GHlyMjRRo",
        "outputId": "7c2e0210-8645-42e2-c267-fe73d9903342"
      },
      "execution_count": null,
      "outputs": [
        {
          "output_type": "stream",
          "name": "stdout",
          "text": [
            "{2}\n"
          ]
        }
      ]
    },
    {
      "cell_type": "code",
      "source": [
        "v2= {1,2}-{2,3}\n",
        "print(v2)"
      ],
      "metadata": {
        "colab": {
          "base_uri": "https://localhost:8080/"
        },
        "id": "YCND8EcjjXzm",
        "outputId": "60cea1a7-6ee7-44d1-c41f-ec1d7a39005f"
      },
      "execution_count": null,
      "outputs": [
        {
          "output_type": "stream",
          "name": "stdout",
          "text": [
            "{1}\n"
          ]
        }
      ]
    },
    {
      "cell_type": "markdown",
      "source": [
        "* Iteración: Se puede iterar sobre un set. Ejemplo:"
      ],
      "metadata": {
        "id": "Mk9ta3RSjeX8"
      }
    },
    {
      "cell_type": "code",
      "source": [
        "for elemento in set_muestra: print(elemento)"
      ],
      "metadata": {
        "colab": {
          "base_uri": "https://localhost:8080/"
        },
        "id": "Sk2kc0CVjmwa",
        "outputId": "fdad9a1c-65d6-4ab4-a315-4ffebfc8c27b"
      },
      "execution_count": null,
      "outputs": [
        {
          "output_type": "stream",
          "name": "stdout",
          "text": [
            "3\n",
            "4\n",
            "5\n",
            "g\n"
          ]
        }
      ]
    },
    {
      "cell_type": "markdown",
      "source": [
        "* Índices: No aplicable, ya que los sets no tienen índices."
      ],
      "metadata": {
        "id": "Qz7JS3pljvT-"
      }
    },
    {
      "cell_type": "markdown",
      "source": [
        "## Conclusión\n",
        "\n",
        "Las secuencias son de vital importancia a la hora de manipular datos en pyhton, los sets, listas, tuplas, stings y range ofrecen una amplia variedad de caracterizticas acorde a nuestra necesidad al momento de uso. Por ende es de suma importancia el entender como usarlas."
      ],
      "metadata": {
        "id": "k7PJUDn_j4g1"
      }
    }
  ]
}