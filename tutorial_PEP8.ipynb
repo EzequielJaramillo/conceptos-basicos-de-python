{
  "nbformat": 4,
  "nbformat_minor": 0,
  "metadata": {
    "colab": {
      "provenance": []
    },
    "kernelspec": {
      "name": "python3",
      "display_name": "Python 3"
    },
    "language_info": {
      "name": "python"
    }
  },
  "cells": [
    {
      "cell_type": "markdown",
      "source": [
        "#Tutorial sobre el pep 8 y las reglas de programacion en python"
      ],
      "metadata": {
        "id": "NSJFGKE9lLfD"
      }
    },
    {
      "cell_type": "markdown",
      "source": [
        "##¿Que es el pep 8?\n",
        "\n",
        "El pep 8 (python enchancement propostal )es una documento que proporciona pautas y buenas prácticas a la hora de escribit código en python. este fue escrito en el año 2001 por   Guido van Rossum, Barry Warsaw y Alyssa Coghlan, su obejetivo es mejorar la legigibilidad y coherencia del codigo de pyhton.\n",
        "\n"
      ],
      "metadata": {
        "id": "bxNzgZGrlZ-q"
      }
    },
    {
      "cell_type": "markdown",
      "source": [],
      "metadata": {
        "id": "JkJazRlXodsi"
      }
    },
    {
      "cell_type": "markdown",
      "source": [
        "##¿Por qué necesitamos el PEP 8?\n",
        "\n",
        "Algo que es bien sabido en todo lo que inluye el mundo de la programacación es que el código muy por lo general se lee más de lo que se escribe, por ende es indispensable que el codigo sea lo mas claro, legible y coherente posible.\n",
        "\n",
        "El PEP 8 existe justamente para atender este tema. Bajo esta pautas la legibibilidad del codigo aumenta en gran medida."
      ],
      "metadata": {
        "id": "41Jc69r4uqFD"
      }
    },
    {
      "cell_type": "markdown",
      "source": [
        "## convenciones de nomeclatrura\n",
        "### estilos de nomeclatrua\n",
        "\n",
        "|tipo|convencion de nomeclatura|ejemplos|\n",
        "|---|---|---|\n",
        "|Función|Usa una o varias palabras minúsculas. Separe las palabras por guiones bajos para mejorar la legibilidad.|function, python_function|\n",
        "|Variable|Utilice una sola letra, palabra o palabras minúsculas. Separe las palabras con guiones bajos para mejorar la legibilidad.|x, , varpython_variable|\n",
        "|Clase|Comienza cada palabra con una letra mayúscula. No separes las palabras con guiones bajos. Este estilo se llama estuche camello o estuche Pascal.|Model, PythonClass|\n",
        "|Método|Usa una o varias palabras minúsculas. Separe las palabras con guiones bajos para mejorar la legibilidad.|class_method, method|\n",
        "|Constante|Utilice una sola letra, palabra o palabras mayúsculas. Separe las palabras con guiones bajos para mejorar la legibilidad.|CONSTANT, , PYTHON_CONSTANTPYTHON_LONG_CONSTANT|\n",
        "|Módulo|Usa una o varias palabras cortas y minúsculas. Separe las palabras con guiones bajos para mejorar la legibilidad.|module.py, python_module.py|\n",
        "|Paquete|Usa una o varias palabras cortas y minúsculas. No separes las palabras con guiones bajos.|package, pythonpackage|\n",
        "\n",
        "### Nombrar variables\n",
        "Elegir nombres es una de las partes mas importantes a la hora de crear código de python es la elección del nombre de las variables que van a ser usadas por ende es importante deja expresado de manera clara y precisa el respectivo nombre de las variables. Ejemplo de lo que se debe y no se debe hacer:\n",
        "\n",
        "\n",
        "\n"
      ],
      "metadata": {
        "id": "itxrlXUMuHOp"
      }
    },
    {
      "cell_type": "code",
      "source": [
        "# ejemplo de como no declarar las variables\n",
        "x = \"John Smith\"\n",
        "y, z = x.split()\n",
        "print(f\"{z}, {y}\")"
      ],
      "metadata": {
        "colab": {
          "base_uri": "https://localhost:8080/"
        },
        "id": "82HMtvvN8LZy",
        "outputId": "74475352-4059-4b03-b86e-e1c19f0b323a"
      },
      "execution_count": null,
      "outputs": [
        {
          "output_type": "stream",
          "name": "stdout",
          "text": [
            "Smith, John\n"
          ]
        }
      ]
    },
    {
      "cell_type": "code",
      "source": [
        "# ejemplo de como declarar las variables\n",
        "nombre_completo = \"John Smith\"\n",
        "nombre, apellido = x.split()\n",
        "print(f\"{z}, {y}\")"
      ],
      "metadata": {
        "colab": {
          "base_uri": "https://localhost:8080/"
        },
        "id": "z9gJ8Y4s8f4x",
        "outputId": "fe45195a-6850-4e70-c761-fa21af1566af"
      },
      "execution_count": null,
      "outputs": [
        {
          "output_type": "stream",
          "name": "stdout",
          "text": [
            "Smith, John\n"
          ]
        }
      ]
    },
    {
      "cell_type": "code",
      "source": [
        "# ejemplo con funciones de como no declarar variables\n",
        "def sm(a, b):\n",
        "  return a + b"
      ],
      "metadata": {
        "id": "0MFb-Z_q-LPI"
      },
      "execution_count": null,
      "outputs": []
    },
    {
      "cell_type": "code",
      "source": [
        "# ejemplo con funciones de como declarar variables\n",
        "def suma(a, b):\n",
        "  return a + b"
      ],
      "metadata": {
        "id": "eZiQMByM-aIH"
      },
      "execution_count": null,
      "outputs": []
    },
    {
      "cell_type": "markdown",
      "source": [
        "## diseño de código\n",
        "\n",
        "el diseño del código es una parte de suma importancia ya que es mucho maas comodo trabajar con un codigo visualmente mas amigable que con uno desordenado en este apartado destacan aspectos importantes como:\n",
        "\n",
        "**Las lineas en blanco:** estas ayudan a que el codigo no lusca amontonado y sea mas simple de leer, ejemplo:\n"
      ],
      "metadata": {
        "id": "6skMRIWv-xaR"
      }
    },
    {
      "cell_type": "code",
      "source": [
        "def calculate_variance(numbers):\n",
        "    sum_numbers = 0\n",
        "    for number in numbers:\n",
        "        sum_numbers = sum_numbers + number\n",
        "    mean = sum_numbers / len(numbers)\n",
        "\n",
        "    sum_squares = 0\n",
        "    for number in numbers:\n",
        "        sum_squares = sum_squares + number**2\n",
        "    mean_squares = sum_squares / len(numbers)\n",
        "\n",
        "    return mean_squares - mean**2"
      ],
      "metadata": {
        "id": "jvrEkXuYANmZ"
      },
      "execution_count": null,
      "outputs": []
    },
    {
      "cell_type": "markdown",
      "source": [
        "**Longitud máxima de línea y salto de línea:** el PEP 8 sugiere que las líneas deben limitarse a 79 caracteres. Esto le permite tener varios archivos abiertos uno al lado del otro, al mismo tiempo que evita el ajuste de línea, ejemplo:"
      ],
      "metadata": {
        "id": "2IyxaqIyAV6i"
      }
    },
    {
      "cell_type": "code",
      "source": [
        "def function(arg_one, arg_two,\n",
        "             arg_three, arg_four):\n",
        "    return arg_one"
      ],
      "metadata": {
        "id": "j35krMetBPjx"
      },
      "execution_count": null,
      "outputs": []
    },
    {
      "cell_type": "markdown",
      "source": [
        "##Recomendaciones\n",
        "\n",
        "\n",
        "Hemos tocado muchos temas significativos he importantes sobre el PEP 8 es inevitable que algunos conceptos menores queden por fuera de este tutorial las guias completas de PEP 8 se podran encontrar en **[How to Write Beautiful Python Code With PEP 8](https://realpython.com/python-pep8/)** y **[PEP 8 – Style Guide for Python Code](https://peps.python.org/pep-0008/)**.\n",
        "\n",
        "en estOS ducemntos encontrara los detalles mas sutiles de la porgramación siguiendo las reglas del PEP 8 y sera muy util en su formación como programador"
      ],
      "metadata": {
        "id": "wELZRAeLBSF5"
      }
    },
    {
      "cell_type": "markdown",
      "source": [
        "## Principios de programacion en pyhton\n",
        "\n",
        "### ímplicito es mejor que explicito\n",
        "\n",
        "existe una frase muy interezante que dice: `ímplicito es mejor que explicito`, al escribir codigo de python en muchas ocuaciones nos encontraremos con escenarios en los que tengamos que declarar una gran cnatidad de variables, funciones, clases, paquetes... tenemos que ser concientes que la elección de los nombres puede jugar un papel muy importante en la facil compreción del codigo para otras personas y al mismo tiempo en la solución de problemas para nosotros mismos\n"
      ],
      "metadata": {
        "id": "B2jdKl37Lp44"
      }
    },
    {
      "cell_type": "code",
      "source": [
        "#ejemplo\n",
        "\n",
        "p = 2 # no recomendado\n",
        "\n",
        "numero_de_grupos = 2 # opción mas recomendada"
      ],
      "metadata": {
        "id": "tHJMc2NuRrp2"
      },
      "execution_count": null,
      "outputs": []
    },
    {
      "cell_type": "markdown",
      "source": [
        "se puede apreciar que el primer código no da informaón detallada de lo que representa el valor declarado.\n",
        "\n",
        "por otro lado la segunda variable declarada da una información mas precisa de lo que representa el valor asociado a dicha variable.\n",
        "\n"
      ],
      "metadata": {
        "id": "zNXGw7tdSFNt"
      }
    },
    {
      "cell_type": "markdown",
      "source": [
        "### una sola declaración por línea\n",
        "\n",
        "con esto hacemos referencia a no apiñar las lineas de código por pereza o por querer minimizar el espacio, declarar mas de una variable por linea de código puede afecta la legibilidad de tu código de pyhton. aqui algunos ejemplos:"
      ],
      "metadata": {
        "id": "BewebQiQS2V-"
      }
    },
    {
      "cell_type": "code",
      "source": [
        "#ejemplo de lo que no se debe hacer\n",
        "def funcion(a,b): c=a+b;return c\n",
        "\n",
        "#ejemplo de lo que se debe hacer\n",
        "def funcion(a,b):\n",
        "  c=a+b\n",
        "  return c"
      ],
      "metadata": {
        "id": "fCt6FoJ0a9j2"
      },
      "execution_count": null,
      "outputs": []
    },
    {
      "cell_type": "markdown",
      "source": [
        "### Por favor no repitas\n",
        "\n",
        "con esto nos referimos a que si un proceso se repite muchas veces los mejor sera usar un bucle pero ojo que usar muchos bucles en un mismo programa tampoco es la mejor solucion, python da la facilidad de usar funciones y librerias con metodos ya definidos para determinadas tareas.\n",
        "\n",
        "hay que tene en cuenta que un codigo con muchas repeticiones es mucho mas dificil de poder leer. aqui algunos ejemplos:"
      ],
      "metadata": {
        "id": "1bUeXayWdNIP"
      }
    },
    {
      "cell_type": "code",
      "source": [
        "# ejemplo de lo que no se debe hacer\n",
        "def calcular_impuesto_ventas(precio, porcentaje_impuesto):\n",
        "  return precio * porcentaje_impuesto\n",
        "\n",
        "def calcular_impuesto_consumo(precio, porcentaje_impuesto):\n",
        "  return precio * porcentaje_impuesto\n",
        "\n",
        "# ejemplo de lo que si se debe hacer\n",
        "def calcular_impuesto(precio, porcentaje_impuesto):\n",
        "  return precio * porcentaje_impuesto\n",
        "\n",
        "def calcular_impuesto_ventas(precio):\n",
        "    return calcular_impuesto(precio, 0.1)\n",
        "\n",
        "def calcular_impuesto_consumo(precio):\n",
        "  return calcular_impuesto(precio, 0.2)"
      ],
      "metadata": {
        "id": "rVg1mgDlhCgu"
      },
      "execution_count": null,
      "outputs": []
    },
    {
      "cell_type": "markdown",
      "source": [
        "### Programación defensiva\n",
        "\n",
        "hay que tener en cuenta cuenda se crea un codigo que algo puede no salir bien o que el usuario puede y va a cometer errores, por lo que es necesario considerar los casos mas extremistas posibles y asegurarnos de que nuestro codigo sea auditable y procece excepciones, aqui algunos ejemplos:"
      ],
      "metadata": {
        "id": "p1SEiOrmjyak"
      }
    },
    {
      "cell_type": "code",
      "source": [
        " # lo que no se debe hacer\n",
        "def dividir(dividendo, divisor):\n",
        "  return dividendo / divisor\n",
        "\n",
        " # lo que se debe hacer\n",
        "def dividir(dividendo, divisor):\n",
        "  if not isinstance(dividendo, (int, float)) or not isinstance(divisor, (int, float)):\n",
        "    raise TypeError(\"Ambos argumentos deben ser numéricos.\")\n",
        "  if divisor == 0:\n",
        "    raise ValueError(\"No se puede dividir por cero.\")\n",
        "  return dividendo / divisor"
      ],
      "metadata": {
        "id": "injYDGStkpYN"
      },
      "execution_count": null,
      "outputs": []
    },
    {
      "cell_type": "markdown",
      "source": [
        "## Zen de pyhton\n",
        "no se puede cerrar este tutorial sin habla un poco acerca del zen de python, este es una coleccion de 20 principios de software que influyen el deseño del lenguje de programacion de python, de los cuales 19 fueron escritos por Tim Peters1 en junio de 1999. Estos son:"
      ],
      "metadata": {
        "id": "MeqckzCllSFY"
      }
    },
    {
      "cell_type": "code",
      "source": [
        "import this"
      ],
      "metadata": {
        "colab": {
          "base_uri": "https://localhost:8080/"
        },
        "id": "BuDatOujlKF2",
        "outputId": "c1996404-3e1a-4d6c-92b8-b7cf4d6739bd"
      },
      "execution_count": null,
      "outputs": [
        {
          "output_type": "stream",
          "name": "stdout",
          "text": [
            "The Zen of Python, by Tim Peters\n",
            "\n",
            "Beautiful is better than ugly.\n",
            "Explicit is better than implicit.\n",
            "Simple is better than complex.\n",
            "Complex is better than complicated.\n",
            "Flat is better than nested.\n",
            "Sparse is better than dense.\n",
            "Readability counts.\n",
            "Special cases aren't special enough to break the rules.\n",
            "Although practicality beats purity.\n",
            "Errors should never pass silently.\n",
            "Unless explicitly silenced.\n",
            "In the face of ambiguity, refuse the temptation to guess.\n",
            "There should be one-- and preferably only one --obvious way to do it.\n",
            "Although that way may not be obvious at first unless you're Dutch.\n",
            "Now is better than never.\n",
            "Although never is often better than *right* now.\n",
            "If the implementation is hard to explain, it's a bad idea.\n",
            "If the implementation is easy to explain, it may be a good idea.\n",
            "Namespaces are one honking great idea -- let's do more of those!\n"
          ]
        }
      ]
    }
  ]
}